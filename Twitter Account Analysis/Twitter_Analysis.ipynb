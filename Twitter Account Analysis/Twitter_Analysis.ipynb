{
 "cells": [
  {
   "cell_type": "markdown",
   "metadata": {},
   "source": [
    "## **Project: Twitter Account Analysis - WeRateDogs** ##"
   ]
  },
  {
   "cell_type": "markdown",
   "metadata": {},
   "source": [
    "### Table of Contents ###\n",
    "<ul>\n",
    "<li><a href=\"#Project Overview\">Project Overview</a></li>\n",
    "<li><a href=\"#Data Overview\">Data Overview</a></li>\n",
    "<li><a href=\"#wrangling1\">Data Wrangling - Gather Data</a></li>\n",
    "<li><a href=\"#wrangling2\">Data Wrangling - Assess Data</a></li>\n",
    "<li><a href=\"#wrangling3\">Data Wrangling - Clean Data</a></li>\n",
    "<li><a href=\"#EDA\">Exploratory Data Analysis</a></li>\n",
    "<li><a href=\"#Conclusion\">Conclusion</a></li>\n",
    "</ul>"
   ]
  },
  {
   "cell_type": "markdown",
   "metadata": {},
   "source": [
    "<a id='Project Overview'></a>\n",
    "### Project Overview ###\n",
    "\n",
    "**The purpose of this project is to analyze a tweet archive of Twitter user @dog_rates, also known as WeRateDogs. WeRateDogs is a Twitter account that rates people's dogs with a humorous comment about the dog. Tweet data from Twitter's API will be analyzed to determine which dog breed and dog stage, for instance, are the most popular. The data consists of all tweets as of August 1, 2017.**"
   ]
  },
  {
   "cell_type": "markdown",
   "metadata": {},
   "source": [
    "<a id='Data Overview'></a>\n",
    "### Data Overview ###\n",
    "\n",
    "**Data used in this analysis is derived from 3 sources:**\n",
    "-  **WeRateDogs downloaded their Twitter archive, as of August 1, 2017. This archive contains basic tweet data (tweet   ID, timestamp, text, etc.).** <br>\n",
    "-  **A .tsv file comprised of tweet image predictions, i.e., what breed of dog (or other object, animal, etc.) is  present in each tweet according to a neural network. This file (image_predictions.tsv) is hosted on Udacity's server.** <br>\n",
    "-  **Twitter API** <br>\n",
    "\n",
    "**Each tweet's retweet count and favorite count is extracted using the tweet IDs in the WeRateDogs Twitter archive. Twitter API is queried for each tweet's JSON data using Python's Tweepy library and stored in a .txt file. The .txt read into pandas DataFrame consisting of tweet ID, retweet count, and favorite count.**"
   ]
  },
  {
   "cell_type": "markdown",
   "metadata": {},
   "source": [
    "<a id='wrangling1'></a>\n",
    "### Gather Data ###"
   ]
  },
  {
   "cell_type": "code",
   "execution_count": 1,
   "metadata": {},
   "outputs": [],
   "source": [
    "# Import Libraries for Data Wrangling And Visualizations\n",
    "import pandas as pd\n",
    "import numpy as np\n",
    "\n",
    "import re\n",
    "\n",
    "import json\n",
    "import requests\n",
    "\n",
    "import matplotlib.pyplot as plt\n",
    "%matplotlib inline\n",
    "import seaborn as sns\n",
    "\n",
    "from wordcloud import WordCloud"
   ]
  },
  {
   "cell_type": "code",
   "execution_count": 2,
   "metadata": {},
   "outputs": [],
   "source": [
    "# DataFrame 1 from csv. file \n",
    "path = 'twitter-archive-enhanced.csv'\n",
    "df1 = pd.read_csv(path)"
   ]
  },
  {
   "cell_type": "code",
   "execution_count": 3,
   "metadata": {
    "scrolled": false
   },
   "outputs": [],
   "source": [
    "# DataFrame 2 from tsv. file\n",
    "url = 'https://d17h27t6h515a5.cloudfront.net/topher/2017/August/599fd2ad_image-predictions/image-predictions.tsv'\n",
    "r = requests.get(url)\n",
    "\n",
    "with open('image_predictions.tsv', 'wb') as file:\n",
    "    file.write(r.content)\n",
    "\n",
    "path2 = 'image_predictions.tsv'\n",
    "df2 = pd.read_csv(path2, sep = '\\t')"
   ]
  },
  {
   "cell_type": "code",
   "execution_count": null,
   "metadata": {
    "scrolled": true
   },
   "outputs": [],
   "source": [
    "# Query Twitter API for each tweet in the Twitter archive and save JSON in a text file\n",
    "import tweepy\n",
    "from tweepy import OAuthHandler\n",
    "from timeit import default_timer as timer\n",
    "\n",
    "consumer_key = 'INSERT CONSUMER KEY HERE'\n",
    "consumer_secret = 'INSERT CONSUMER SECRET KEY HERE'\n",
    "access_token = 'INSERT PERSONAL ACCESS TOKEN HERE'\n",
    "access_secret = 'INSERT PERSONAL ACCESS SECRET KEY HERE'\n",
    "\n",
    "auth = OAuthHandler(consumer_key, consumer_secret)\n",
    "auth.set_access_token(access_token, access_secret)\n",
    "\n",
    "api = tweepy.API(auth, wait_on_rate_limit=True)\n",
    "\n",
    "tweet_ids = df1['tweet_id'].values\n",
    "\n",
    "# Query Twitter's API for JSON data for each tweet ID in the Twitter archive\n",
    "i = 0\n",
    "fails = {}\n",
    "start = timer()\n",
    "\n",
    "# Save each tweet's returned JSON as a new line in a .txt file\n",
    "with open('tweet_json.txt', 'w') as outfile:\n",
    "    for tweet_id in tweet_ids:\n",
    "        i += 1\n",
    "        print(str(i) + \": \" + str(tweet_id))\n",
    "        try:\n",
    "            tweet = api.get_status(tweet_id, tweet_mode='extended')\n",
    "            print(\"Success\")\n",
    "            json.dump(tweet._json, outfile)\n",
    "            outfile.write('\\n')\n",
    "        except:\n",
    "            print(\"Fail\")\n",
    "            fails[tweet_id] = tweet_id\n",
    "            pass\n",
    "end = timer()\n",
    "print(end - start)\n",
    "print(fails)"
   ]
  },
  {
   "cell_type": "code",
   "execution_count": 4,
   "metadata": {
    "scrolled": true
   },
   "outputs": [],
   "source": [
    "# Pull json data from .txt file and create Pandas DataFrame\n",
    "tweet_data = [json.loads(line) for line in open('tweet_json.txt', 'r')]\n",
    "df_list = []\n",
    "\n",
    "for tweet in tweet_data:\n",
    "    Created_At = tweet['created_at']\n",
    "    ID = tweet['id']\n",
    "    Retweet_Count = tweet['retweet_count']\n",
    "    Favorite_Count = tweet['favorite_count']\n",
    "    Retweeted = tweet['retweeted']\n",
    "    df_list.append({'Created At': Created_At, 'tweet_id': ID, 'Retweet Count': Retweet_Count,\n",
    "                    'Favorite Count': Favorite_Count, 'Retweeted': Retweeted})\n",
    "\n",
    "df3 = pd.DataFrame(df_list, columns = ['Created At', 'tweet_id', 'Retweet Count', 'Favorite Count',\n",
    "                                       'Retweeted'])"
   ]
  },
  {
   "cell_type": "code",
   "execution_count": 5,
   "metadata": {},
   "outputs": [],
   "source": [
    "# Store original DataFrames before Cleaning\n",
    "df1_original = df1.copy()\n",
    "df2_original = df2.copy()\n",
    "df3_original = df3.copy()"
   ]
  },
  {
   "cell_type": "markdown",
   "metadata": {},
   "source": [
    "<a id='wrangling2'></a>\n",
    "### Assess Data ###"
   ]
  },
  {
   "cell_type": "code",
   "execution_count": 6,
   "metadata": {
    "scrolled": true
   },
   "outputs": [
    {
     "data": {
      "text/html": [
       "<div>\n",
       "<style scoped>\n",
       "    .dataframe tbody tr th:only-of-type {\n",
       "        vertical-align: middle;\n",
       "    }\n",
       "\n",
       "    .dataframe tbody tr th {\n",
       "        vertical-align: top;\n",
       "    }\n",
       "\n",
       "    .dataframe thead th {\n",
       "        text-align: right;\n",
       "    }\n",
       "</style>\n",
       "<table border=\"1\" class=\"dataframe\">\n",
       "  <thead>\n",
       "    <tr style=\"text-align: right;\">\n",
       "      <th></th>\n",
       "      <th>tweet_id</th>\n",
       "      <th>in_reply_to_status_id</th>\n",
       "      <th>in_reply_to_user_id</th>\n",
       "      <th>timestamp</th>\n",
       "      <th>source</th>\n",
       "      <th>text</th>\n",
       "      <th>retweeted_status_id</th>\n",
       "      <th>retweeted_status_user_id</th>\n",
       "      <th>retweeted_status_timestamp</th>\n",
       "      <th>expanded_urls</th>\n",
       "      <th>rating_numerator</th>\n",
       "      <th>rating_denominator</th>\n",
       "      <th>name</th>\n",
       "      <th>doggo</th>\n",
       "      <th>floofer</th>\n",
       "      <th>pupper</th>\n",
       "      <th>puppo</th>\n",
       "    </tr>\n",
       "  </thead>\n",
       "  <tbody>\n",
       "    <tr>\n",
       "      <th>0</th>\n",
       "      <td>892420643555336193</td>\n",
       "      <td>NaN</td>\n",
       "      <td>NaN</td>\n",
       "      <td>2017-08-01 16:23:56 +0000</td>\n",
       "      <td>&lt;a href=\"http://twitter.com/download/iphone\" r...</td>\n",
       "      <td>This is Phineas. He's a mystical boy. Only eve...</td>\n",
       "      <td>NaN</td>\n",
       "      <td>NaN</td>\n",
       "      <td>NaN</td>\n",
       "      <td>https://twitter.com/dog_rates/status/892420643...</td>\n",
       "      <td>13</td>\n",
       "      <td>10</td>\n",
       "      <td>Phineas</td>\n",
       "      <td>None</td>\n",
       "      <td>None</td>\n",
       "      <td>None</td>\n",
       "      <td>None</td>\n",
       "    </tr>\n",
       "    <tr>\n",
       "      <th>1</th>\n",
       "      <td>892177421306343426</td>\n",
       "      <td>NaN</td>\n",
       "      <td>NaN</td>\n",
       "      <td>2017-08-01 00:17:27 +0000</td>\n",
       "      <td>&lt;a href=\"http://twitter.com/download/iphone\" r...</td>\n",
       "      <td>This is Tilly. She's just checking pup on you....</td>\n",
       "      <td>NaN</td>\n",
       "      <td>NaN</td>\n",
       "      <td>NaN</td>\n",
       "      <td>https://twitter.com/dog_rates/status/892177421...</td>\n",
       "      <td>13</td>\n",
       "      <td>10</td>\n",
       "      <td>Tilly</td>\n",
       "      <td>None</td>\n",
       "      <td>None</td>\n",
       "      <td>None</td>\n",
       "      <td>None</td>\n",
       "    </tr>\n",
       "    <tr>\n",
       "      <th>2</th>\n",
       "      <td>891815181378084864</td>\n",
       "      <td>NaN</td>\n",
       "      <td>NaN</td>\n",
       "      <td>2017-07-31 00:18:03 +0000</td>\n",
       "      <td>&lt;a href=\"http://twitter.com/download/iphone\" r...</td>\n",
       "      <td>This is Archie. He is a rare Norwegian Pouncin...</td>\n",
       "      <td>NaN</td>\n",
       "      <td>NaN</td>\n",
       "      <td>NaN</td>\n",
       "      <td>https://twitter.com/dog_rates/status/891815181...</td>\n",
       "      <td>12</td>\n",
       "      <td>10</td>\n",
       "      <td>Archie</td>\n",
       "      <td>None</td>\n",
       "      <td>None</td>\n",
       "      <td>None</td>\n",
       "      <td>None</td>\n",
       "    </tr>\n",
       "    <tr>\n",
       "      <th>3</th>\n",
       "      <td>891689557279858688</td>\n",
       "      <td>NaN</td>\n",
       "      <td>NaN</td>\n",
       "      <td>2017-07-30 15:58:51 +0000</td>\n",
       "      <td>&lt;a href=\"http://twitter.com/download/iphone\" r...</td>\n",
       "      <td>This is Darla. She commenced a snooze mid meal...</td>\n",
       "      <td>NaN</td>\n",
       "      <td>NaN</td>\n",
       "      <td>NaN</td>\n",
       "      <td>https://twitter.com/dog_rates/status/891689557...</td>\n",
       "      <td>13</td>\n",
       "      <td>10</td>\n",
       "      <td>Darla</td>\n",
       "      <td>None</td>\n",
       "      <td>None</td>\n",
       "      <td>None</td>\n",
       "      <td>None</td>\n",
       "    </tr>\n",
       "    <tr>\n",
       "      <th>4</th>\n",
       "      <td>891327558926688256</td>\n",
       "      <td>NaN</td>\n",
       "      <td>NaN</td>\n",
       "      <td>2017-07-29 16:00:24 +0000</td>\n",
       "      <td>&lt;a href=\"http://twitter.com/download/iphone\" r...</td>\n",
       "      <td>This is Franklin. He would like you to stop ca...</td>\n",
       "      <td>NaN</td>\n",
       "      <td>NaN</td>\n",
       "      <td>NaN</td>\n",
       "      <td>https://twitter.com/dog_rates/status/891327558...</td>\n",
       "      <td>12</td>\n",
       "      <td>10</td>\n",
       "      <td>Franklin</td>\n",
       "      <td>None</td>\n",
       "      <td>None</td>\n",
       "      <td>None</td>\n",
       "      <td>None</td>\n",
       "    </tr>\n",
       "  </tbody>\n",
       "</table>\n",
       "</div>"
      ],
      "text/plain": [
       "             tweet_id  in_reply_to_status_id  in_reply_to_user_id  \\\n",
       "0  892420643555336193                    NaN                  NaN   \n",
       "1  892177421306343426                    NaN                  NaN   \n",
       "2  891815181378084864                    NaN                  NaN   \n",
       "3  891689557279858688                    NaN                  NaN   \n",
       "4  891327558926688256                    NaN                  NaN   \n",
       "\n",
       "                   timestamp  \\\n",
       "0  2017-08-01 16:23:56 +0000   \n",
       "1  2017-08-01 00:17:27 +0000   \n",
       "2  2017-07-31 00:18:03 +0000   \n",
       "3  2017-07-30 15:58:51 +0000   \n",
       "4  2017-07-29 16:00:24 +0000   \n",
       "\n",
       "                                              source  \\\n",
       "0  <a href=\"http://twitter.com/download/iphone\" r...   \n",
       "1  <a href=\"http://twitter.com/download/iphone\" r...   \n",
       "2  <a href=\"http://twitter.com/download/iphone\" r...   \n",
       "3  <a href=\"http://twitter.com/download/iphone\" r...   \n",
       "4  <a href=\"http://twitter.com/download/iphone\" r...   \n",
       "\n",
       "                                                text  retweeted_status_id  \\\n",
       "0  This is Phineas. He's a mystical boy. Only eve...                  NaN   \n",
       "1  This is Tilly. She's just checking pup on you....                  NaN   \n",
       "2  This is Archie. He is a rare Norwegian Pouncin...                  NaN   \n",
       "3  This is Darla. She commenced a snooze mid meal...                  NaN   \n",
       "4  This is Franklin. He would like you to stop ca...                  NaN   \n",
       "\n",
       "   retweeted_status_user_id retweeted_status_timestamp  \\\n",
       "0                       NaN                        NaN   \n",
       "1                       NaN                        NaN   \n",
       "2                       NaN                        NaN   \n",
       "3                       NaN                        NaN   \n",
       "4                       NaN                        NaN   \n",
       "\n",
       "                                       expanded_urls  rating_numerator  \\\n",
       "0  https://twitter.com/dog_rates/status/892420643...                13   \n",
       "1  https://twitter.com/dog_rates/status/892177421...                13   \n",
       "2  https://twitter.com/dog_rates/status/891815181...                12   \n",
       "3  https://twitter.com/dog_rates/status/891689557...                13   \n",
       "4  https://twitter.com/dog_rates/status/891327558...                12   \n",
       "\n",
       "   rating_denominator      name doggo floofer pupper puppo  \n",
       "0                  10   Phineas  None    None   None  None  \n",
       "1                  10     Tilly  None    None   None  None  \n",
       "2                  10    Archie  None    None   None  None  \n",
       "3                  10     Darla  None    None   None  None  \n",
       "4                  10  Franklin  None    None   None  None  "
      ]
     },
     "execution_count": 6,
     "metadata": {},
     "output_type": "execute_result"
    }
   ],
   "source": [
    "df1.head()"
   ]
  },
  {
   "cell_type": "code",
   "execution_count": 7,
   "metadata": {
    "scrolled": true
   },
   "outputs": [
    {
     "data": {
      "text/html": [
       "<div>\n",
       "<style scoped>\n",
       "    .dataframe tbody tr th:only-of-type {\n",
       "        vertical-align: middle;\n",
       "    }\n",
       "\n",
       "    .dataframe tbody tr th {\n",
       "        vertical-align: top;\n",
       "    }\n",
       "\n",
       "    .dataframe thead th {\n",
       "        text-align: right;\n",
       "    }\n",
       "</style>\n",
       "<table border=\"1\" class=\"dataframe\">\n",
       "  <thead>\n",
       "    <tr style=\"text-align: right;\">\n",
       "      <th></th>\n",
       "      <th>tweet_id</th>\n",
       "      <th>in_reply_to_status_id</th>\n",
       "      <th>in_reply_to_user_id</th>\n",
       "      <th>retweeted_status_id</th>\n",
       "      <th>retweeted_status_user_id</th>\n",
       "      <th>rating_numerator</th>\n",
       "      <th>rating_denominator</th>\n",
       "    </tr>\n",
       "  </thead>\n",
       "  <tbody>\n",
       "    <tr>\n",
       "      <th>count</th>\n",
       "      <td>2.356000e+03</td>\n",
       "      <td>7.800000e+01</td>\n",
       "      <td>7.800000e+01</td>\n",
       "      <td>1.810000e+02</td>\n",
       "      <td>1.810000e+02</td>\n",
       "      <td>2356.000000</td>\n",
       "      <td>2356.000000</td>\n",
       "    </tr>\n",
       "    <tr>\n",
       "      <th>mean</th>\n",
       "      <td>7.427716e+17</td>\n",
       "      <td>7.455079e+17</td>\n",
       "      <td>2.014171e+16</td>\n",
       "      <td>7.720400e+17</td>\n",
       "      <td>1.241698e+16</td>\n",
       "      <td>13.126486</td>\n",
       "      <td>10.455433</td>\n",
       "    </tr>\n",
       "    <tr>\n",
       "      <th>std</th>\n",
       "      <td>6.856705e+16</td>\n",
       "      <td>7.582492e+16</td>\n",
       "      <td>1.252797e+17</td>\n",
       "      <td>6.236928e+16</td>\n",
       "      <td>9.599254e+16</td>\n",
       "      <td>45.876648</td>\n",
       "      <td>6.745237</td>\n",
       "    </tr>\n",
       "    <tr>\n",
       "      <th>min</th>\n",
       "      <td>6.660209e+17</td>\n",
       "      <td>6.658147e+17</td>\n",
       "      <td>1.185634e+07</td>\n",
       "      <td>6.661041e+17</td>\n",
       "      <td>7.832140e+05</td>\n",
       "      <td>0.000000</td>\n",
       "      <td>0.000000</td>\n",
       "    </tr>\n",
       "    <tr>\n",
       "      <th>25%</th>\n",
       "      <td>6.783989e+17</td>\n",
       "      <td>6.757419e+17</td>\n",
       "      <td>3.086374e+08</td>\n",
       "      <td>7.186315e+17</td>\n",
       "      <td>4.196984e+09</td>\n",
       "      <td>10.000000</td>\n",
       "      <td>10.000000</td>\n",
       "    </tr>\n",
       "    <tr>\n",
       "      <th>50%</th>\n",
       "      <td>7.196279e+17</td>\n",
       "      <td>7.038708e+17</td>\n",
       "      <td>4.196984e+09</td>\n",
       "      <td>7.804657e+17</td>\n",
       "      <td>4.196984e+09</td>\n",
       "      <td>11.000000</td>\n",
       "      <td>10.000000</td>\n",
       "    </tr>\n",
       "    <tr>\n",
       "      <th>75%</th>\n",
       "      <td>7.993373e+17</td>\n",
       "      <td>8.257804e+17</td>\n",
       "      <td>4.196984e+09</td>\n",
       "      <td>8.203146e+17</td>\n",
       "      <td>4.196984e+09</td>\n",
       "      <td>12.000000</td>\n",
       "      <td>10.000000</td>\n",
       "    </tr>\n",
       "    <tr>\n",
       "      <th>max</th>\n",
       "      <td>8.924206e+17</td>\n",
       "      <td>8.862664e+17</td>\n",
       "      <td>8.405479e+17</td>\n",
       "      <td>8.874740e+17</td>\n",
       "      <td>7.874618e+17</td>\n",
       "      <td>1776.000000</td>\n",
       "      <td>170.000000</td>\n",
       "    </tr>\n",
       "  </tbody>\n",
       "</table>\n",
       "</div>"
      ],
      "text/plain": [
       "           tweet_id  in_reply_to_status_id  in_reply_to_user_id  \\\n",
       "count  2.356000e+03           7.800000e+01         7.800000e+01   \n",
       "mean   7.427716e+17           7.455079e+17         2.014171e+16   \n",
       "std    6.856705e+16           7.582492e+16         1.252797e+17   \n",
       "min    6.660209e+17           6.658147e+17         1.185634e+07   \n",
       "25%    6.783989e+17           6.757419e+17         3.086374e+08   \n",
       "50%    7.196279e+17           7.038708e+17         4.196984e+09   \n",
       "75%    7.993373e+17           8.257804e+17         4.196984e+09   \n",
       "max    8.924206e+17           8.862664e+17         8.405479e+17   \n",
       "\n",
       "       retweeted_status_id  retweeted_status_user_id  rating_numerator  \\\n",
       "count         1.810000e+02              1.810000e+02       2356.000000   \n",
       "mean          7.720400e+17              1.241698e+16         13.126486   \n",
       "std           6.236928e+16              9.599254e+16         45.876648   \n",
       "min           6.661041e+17              7.832140e+05          0.000000   \n",
       "25%           7.186315e+17              4.196984e+09         10.000000   \n",
       "50%           7.804657e+17              4.196984e+09         11.000000   \n",
       "75%           8.203146e+17              4.196984e+09         12.000000   \n",
       "max           8.874740e+17              7.874618e+17       1776.000000   \n",
       "\n",
       "       rating_denominator  \n",
       "count         2356.000000  \n",
       "mean            10.455433  \n",
       "std              6.745237  \n",
       "min              0.000000  \n",
       "25%             10.000000  \n",
       "50%             10.000000  \n",
       "75%             10.000000  \n",
       "max            170.000000  "
      ]
     },
     "execution_count": 7,
     "metadata": {},
     "output_type": "execute_result"
    }
   ],
   "source": [
    "df1.describe()"
   ]
  },
  {
   "cell_type": "code",
   "execution_count": 8,
   "metadata": {
    "scrolled": false
   },
   "outputs": [
    {
     "name": "stdout",
     "output_type": "stream",
     "text": [
      "<class 'pandas.core.frame.DataFrame'>\n",
      "RangeIndex: 2356 entries, 0 to 2355\n",
      "Data columns (total 17 columns):\n",
      "tweet_id                      2356 non-null int64\n",
      "in_reply_to_status_id         78 non-null float64\n",
      "in_reply_to_user_id           78 non-null float64\n",
      "timestamp                     2356 non-null object\n",
      "source                        2356 non-null object\n",
      "text                          2356 non-null object\n",
      "retweeted_status_id           181 non-null float64\n",
      "retweeted_status_user_id      181 non-null float64\n",
      "retweeted_status_timestamp    181 non-null object\n",
      "expanded_urls                 2297 non-null object\n",
      "rating_numerator              2356 non-null int64\n",
      "rating_denominator            2356 non-null int64\n",
      "name                          2356 non-null object\n",
      "doggo                         2356 non-null object\n",
      "floofer                       2356 non-null object\n",
      "pupper                        2356 non-null object\n",
      "puppo                         2356 non-null object\n",
      "dtypes: float64(4), int64(3), object(10)\n",
      "memory usage: 313.0+ KB\n"
     ]
    }
   ],
   "source": [
    "df1.info()"
   ]
  },
  {
   "cell_type": "code",
   "execution_count": 9,
   "metadata": {},
   "outputs": [
    {
     "data": {
      "text/plain": [
       "12    558\n",
       "11    464\n",
       "10    461\n",
       "13    351\n",
       "9     158\n",
       "8     102\n",
       "7      55\n",
       "14     54\n",
       "5      37\n",
       "6      32\n",
       "Name: rating_numerator, dtype: int64"
      ]
     },
     "execution_count": 9,
     "metadata": {},
     "output_type": "execute_result"
    }
   ],
   "source": [
    "# Number of occurances for each rating given to a dog \n",
    "df1.rating_numerator.value_counts().head(10)"
   ]
  },
  {
   "cell_type": "code",
   "execution_count": 10,
   "metadata": {
    "scrolled": true
   },
   "outputs": [
    {
     "name": "stdout",
     "output_type": "stream",
     "text": [
      "[\"When you're so blinded by your systematic plagiarism that you forget what day it is. 0/10 https://t.co/YbEJPkg4Ag\", \"PUPDATE: can't see any. Even if I could, I couldn't reach them to pet. 0/10 much disappointment https://t.co/c7WXaB2nqX\"]\n",
      "['RT @KibaDva: I collected all the good dogs!! 15/10 @dog_rates #GoodDogs https://t.co/6UCGFczlOI', '@bragg6of8 @Andy_Pace_ we are still looking for the first 15/10']\n"
     ]
    }
   ],
   "source": [
    "# Inspect rating numerator of 0 and 15 to determine legitimacy\n",
    "print(df1[df1['rating_numerator'] == 0]['text'].tolist())\n",
    "print(df1[df1['rating_numerator'] == 15]['text'].tolist())"
   ]
  },
  {
   "cell_type": "code",
   "execution_count": 11,
   "metadata": {},
   "outputs": [
    {
     "data": {
      "text/plain": [
       "23"
      ]
     },
     "execution_count": 11,
     "metadata": {},
     "output_type": "execute_result"
    }
   ],
   "source": [
    "# Get count of tweet ID's that don't have denominator of 10.\n",
    "df1[df1['rating_denominator'] != 10].shape[0]"
   ]
  },
  {
   "cell_type": "code",
   "execution_count": 12,
   "metadata": {
    "scrolled": true
   },
   "outputs": [],
   "source": [
    "# Inspect 'name' column to determine necessary changes\n",
    "df1['name'].tolist();"
   ]
  },
  {
   "cell_type": "code",
   "execution_count": 13,
   "metadata": {},
   "outputs": [],
   "source": [
    "# Inspect 'expanded_url' column to determine necessary changes. Technically this column can be dropped.\n",
    "df1.expanded_urls.tolist();"
   ]
  },
  {
   "cell_type": "markdown",
   "metadata": {},
   "source": [
    "#### df1 Assessment ####\n",
    "**The following items were assessed to be cleaned in the first dataframe:**<br><br>\n",
    "    **Quality Issues**<br>\n",
    "    **1.** Delete rows with a rating numerator greater than 14 and value of 0, and replace rating numerator with value specified in text.<br>\n",
    "    **2.** Convert 'timestamp' column from object to datetime.<br>\n",
    "    **3.** Delete rows with rating denominator value not equal to 10. We can investigate texts from these rows, but \n",
    "since there are only 23 rows out of 2300+ with a non-10 denominator, we'll delete these rows.<br>\n",
    "    **4.** Some dog names are not capitalized. Capitalize all dog names. Some rows do not specify dog names, search \n",
    "           text to identify additional dog names.<br>\n",
    "    **5.** Dog stages are missing for majority of tweet ID's. Scan text column for dog stage.<br>\n",
    "    **6.** Rows in the expanded url column have duplicated url's.<br>\n",
    "    **7.** Convert 'tweet_id' column to object (str).<br>\n",
    "    **8.** Filter only original tweets. Remove 'RT' rows. <br><br>\n",
    "    **Tidiness Issues**<br>\n",
    "    **9.** Doggo, floofer, pupper, puppo columns in twitter_archive_enhanced.csv should be combined into a single column as this is one variable that identify stage of dog. <br><br>\n",
    "    **Other Issues**<br>\n",
    "    **10.** Remove the hyperlink and <a/a> tag for url's in the 'source' column.<br>\n",
    "    **11.** Drop columns 'in_reply_to_status_id', 'in_reply_to_user_id', 'retweeted_status_id', 'retweeted_status_user_id', and    'retweeted_status_timestamp'. No valuable information can be extracted from these columns.<br><br>"
   ]
  },
  {
   "cell_type": "code",
   "execution_count": 14,
   "metadata": {},
   "outputs": [
    {
     "data": {
      "text/html": [
       "<div>\n",
       "<style scoped>\n",
       "    .dataframe tbody tr th:only-of-type {\n",
       "        vertical-align: middle;\n",
       "    }\n",
       "\n",
       "    .dataframe tbody tr th {\n",
       "        vertical-align: top;\n",
       "    }\n",
       "\n",
       "    .dataframe thead th {\n",
       "        text-align: right;\n",
       "    }\n",
       "</style>\n",
       "<table border=\"1\" class=\"dataframe\">\n",
       "  <thead>\n",
       "    <tr style=\"text-align: right;\">\n",
       "      <th></th>\n",
       "      <th>tweet_id</th>\n",
       "      <th>jpg_url</th>\n",
       "      <th>img_num</th>\n",
       "      <th>p1</th>\n",
       "      <th>p1_conf</th>\n",
       "      <th>p1_dog</th>\n",
       "      <th>p2</th>\n",
       "      <th>p2_conf</th>\n",
       "      <th>p2_dog</th>\n",
       "      <th>p3</th>\n",
       "      <th>p3_conf</th>\n",
       "      <th>p3_dog</th>\n",
       "    </tr>\n",
       "  </thead>\n",
       "  <tbody>\n",
       "    <tr>\n",
       "      <th>0</th>\n",
       "      <td>666020888022790149</td>\n",
       "      <td>https://pbs.twimg.com/media/CT4udn0WwAA0aMy.jpg</td>\n",
       "      <td>1</td>\n",
       "      <td>Welsh_springer_spaniel</td>\n",
       "      <td>0.465074</td>\n",
       "      <td>True</td>\n",
       "      <td>collie</td>\n",
       "      <td>0.156665</td>\n",
       "      <td>True</td>\n",
       "      <td>Shetland_sheepdog</td>\n",
       "      <td>0.061428</td>\n",
       "      <td>True</td>\n",
       "    </tr>\n",
       "    <tr>\n",
       "      <th>1</th>\n",
       "      <td>666029285002620928</td>\n",
       "      <td>https://pbs.twimg.com/media/CT42GRgUYAA5iDo.jpg</td>\n",
       "      <td>1</td>\n",
       "      <td>redbone</td>\n",
       "      <td>0.506826</td>\n",
       "      <td>True</td>\n",
       "      <td>miniature_pinscher</td>\n",
       "      <td>0.074192</td>\n",
       "      <td>True</td>\n",
       "      <td>Rhodesian_ridgeback</td>\n",
       "      <td>0.072010</td>\n",
       "      <td>True</td>\n",
       "    </tr>\n",
       "    <tr>\n",
       "      <th>2</th>\n",
       "      <td>666033412701032449</td>\n",
       "      <td>https://pbs.twimg.com/media/CT4521TWwAEvMyu.jpg</td>\n",
       "      <td>1</td>\n",
       "      <td>German_shepherd</td>\n",
       "      <td>0.596461</td>\n",
       "      <td>True</td>\n",
       "      <td>malinois</td>\n",
       "      <td>0.138584</td>\n",
       "      <td>True</td>\n",
       "      <td>bloodhound</td>\n",
       "      <td>0.116197</td>\n",
       "      <td>True</td>\n",
       "    </tr>\n",
       "    <tr>\n",
       "      <th>3</th>\n",
       "      <td>666044226329800704</td>\n",
       "      <td>https://pbs.twimg.com/media/CT5Dr8HUEAA-lEu.jpg</td>\n",
       "      <td>1</td>\n",
       "      <td>Rhodesian_ridgeback</td>\n",
       "      <td>0.408143</td>\n",
       "      <td>True</td>\n",
       "      <td>redbone</td>\n",
       "      <td>0.360687</td>\n",
       "      <td>True</td>\n",
       "      <td>miniature_pinscher</td>\n",
       "      <td>0.222752</td>\n",
       "      <td>True</td>\n",
       "    </tr>\n",
       "    <tr>\n",
       "      <th>4</th>\n",
       "      <td>666049248165822465</td>\n",
       "      <td>https://pbs.twimg.com/media/CT5IQmsXIAAKY4A.jpg</td>\n",
       "      <td>1</td>\n",
       "      <td>miniature_pinscher</td>\n",
       "      <td>0.560311</td>\n",
       "      <td>True</td>\n",
       "      <td>Rottweiler</td>\n",
       "      <td>0.243682</td>\n",
       "      <td>True</td>\n",
       "      <td>Doberman</td>\n",
       "      <td>0.154629</td>\n",
       "      <td>True</td>\n",
       "    </tr>\n",
       "  </tbody>\n",
       "</table>\n",
       "</div>"
      ],
      "text/plain": [
       "             tweet_id                                          jpg_url  \\\n",
       "0  666020888022790149  https://pbs.twimg.com/media/CT4udn0WwAA0aMy.jpg   \n",
       "1  666029285002620928  https://pbs.twimg.com/media/CT42GRgUYAA5iDo.jpg   \n",
       "2  666033412701032449  https://pbs.twimg.com/media/CT4521TWwAEvMyu.jpg   \n",
       "3  666044226329800704  https://pbs.twimg.com/media/CT5Dr8HUEAA-lEu.jpg   \n",
       "4  666049248165822465  https://pbs.twimg.com/media/CT5IQmsXIAAKY4A.jpg   \n",
       "\n",
       "   img_num                      p1   p1_conf  p1_dog                  p2  \\\n",
       "0        1  Welsh_springer_spaniel  0.465074    True              collie   \n",
       "1        1                 redbone  0.506826    True  miniature_pinscher   \n",
       "2        1         German_shepherd  0.596461    True            malinois   \n",
       "3        1     Rhodesian_ridgeback  0.408143    True             redbone   \n",
       "4        1      miniature_pinscher  0.560311    True          Rottweiler   \n",
       "\n",
       "    p2_conf  p2_dog                   p3   p3_conf  p3_dog  \n",
       "0  0.156665    True    Shetland_sheepdog  0.061428    True  \n",
       "1  0.074192    True  Rhodesian_ridgeback  0.072010    True  \n",
       "2  0.138584    True           bloodhound  0.116197    True  \n",
       "3  0.360687    True   miniature_pinscher  0.222752    True  \n",
       "4  0.243682    True             Doberman  0.154629    True  "
      ]
     },
     "execution_count": 14,
     "metadata": {},
     "output_type": "execute_result"
    }
   ],
   "source": [
    "df2.head()"
   ]
  },
  {
   "cell_type": "code",
   "execution_count": 15,
   "metadata": {},
   "outputs": [
    {
     "data": {
      "text/html": [
       "<div>\n",
       "<style scoped>\n",
       "    .dataframe tbody tr th:only-of-type {\n",
       "        vertical-align: middle;\n",
       "    }\n",
       "\n",
       "    .dataframe tbody tr th {\n",
       "        vertical-align: top;\n",
       "    }\n",
       "\n",
       "    .dataframe thead th {\n",
       "        text-align: right;\n",
       "    }\n",
       "</style>\n",
       "<table border=\"1\" class=\"dataframe\">\n",
       "  <thead>\n",
       "    <tr style=\"text-align: right;\">\n",
       "      <th></th>\n",
       "      <th>tweet_id</th>\n",
       "      <th>img_num</th>\n",
       "      <th>p1_conf</th>\n",
       "      <th>p2_conf</th>\n",
       "      <th>p3_conf</th>\n",
       "    </tr>\n",
       "  </thead>\n",
       "  <tbody>\n",
       "    <tr>\n",
       "      <th>count</th>\n",
       "      <td>2.075000e+03</td>\n",
       "      <td>2075.000000</td>\n",
       "      <td>2075.000000</td>\n",
       "      <td>2.075000e+03</td>\n",
       "      <td>2.075000e+03</td>\n",
       "    </tr>\n",
       "    <tr>\n",
       "      <th>mean</th>\n",
       "      <td>7.384514e+17</td>\n",
       "      <td>1.203855</td>\n",
       "      <td>0.594548</td>\n",
       "      <td>1.345886e-01</td>\n",
       "      <td>6.032417e-02</td>\n",
       "    </tr>\n",
       "    <tr>\n",
       "      <th>std</th>\n",
       "      <td>6.785203e+16</td>\n",
       "      <td>0.561875</td>\n",
       "      <td>0.271174</td>\n",
       "      <td>1.006657e-01</td>\n",
       "      <td>5.090593e-02</td>\n",
       "    </tr>\n",
       "    <tr>\n",
       "      <th>min</th>\n",
       "      <td>6.660209e+17</td>\n",
       "      <td>1.000000</td>\n",
       "      <td>0.044333</td>\n",
       "      <td>1.011300e-08</td>\n",
       "      <td>1.740170e-10</td>\n",
       "    </tr>\n",
       "    <tr>\n",
       "      <th>25%</th>\n",
       "      <td>6.764835e+17</td>\n",
       "      <td>1.000000</td>\n",
       "      <td>0.364412</td>\n",
       "      <td>5.388625e-02</td>\n",
       "      <td>1.622240e-02</td>\n",
       "    </tr>\n",
       "    <tr>\n",
       "      <th>50%</th>\n",
       "      <td>7.119988e+17</td>\n",
       "      <td>1.000000</td>\n",
       "      <td>0.588230</td>\n",
       "      <td>1.181810e-01</td>\n",
       "      <td>4.944380e-02</td>\n",
       "    </tr>\n",
       "    <tr>\n",
       "      <th>75%</th>\n",
       "      <td>7.932034e+17</td>\n",
       "      <td>1.000000</td>\n",
       "      <td>0.843855</td>\n",
       "      <td>1.955655e-01</td>\n",
       "      <td>9.180755e-02</td>\n",
       "    </tr>\n",
       "    <tr>\n",
       "      <th>max</th>\n",
       "      <td>8.924206e+17</td>\n",
       "      <td>4.000000</td>\n",
       "      <td>1.000000</td>\n",
       "      <td>4.880140e-01</td>\n",
       "      <td>2.734190e-01</td>\n",
       "    </tr>\n",
       "  </tbody>\n",
       "</table>\n",
       "</div>"
      ],
      "text/plain": [
       "           tweet_id      img_num      p1_conf       p2_conf       p3_conf\n",
       "count  2.075000e+03  2075.000000  2075.000000  2.075000e+03  2.075000e+03\n",
       "mean   7.384514e+17     1.203855     0.594548  1.345886e-01  6.032417e-02\n",
       "std    6.785203e+16     0.561875     0.271174  1.006657e-01  5.090593e-02\n",
       "min    6.660209e+17     1.000000     0.044333  1.011300e-08  1.740170e-10\n",
       "25%    6.764835e+17     1.000000     0.364412  5.388625e-02  1.622240e-02\n",
       "50%    7.119988e+17     1.000000     0.588230  1.181810e-01  4.944380e-02\n",
       "75%    7.932034e+17     1.000000     0.843855  1.955655e-01  9.180755e-02\n",
       "max    8.924206e+17     4.000000     1.000000  4.880140e-01  2.734190e-01"
      ]
     },
     "execution_count": 15,
     "metadata": {},
     "output_type": "execute_result"
    }
   ],
   "source": [
    "df2.describe()"
   ]
  },
  {
   "cell_type": "code",
   "execution_count": 16,
   "metadata": {},
   "outputs": [
    {
     "name": "stdout",
     "output_type": "stream",
     "text": [
      "<class 'pandas.core.frame.DataFrame'>\n",
      "RangeIndex: 2075 entries, 0 to 2074\n",
      "Data columns (total 12 columns):\n",
      "tweet_id    2075 non-null int64\n",
      "jpg_url     2075 non-null object\n",
      "img_num     2075 non-null int64\n",
      "p1          2075 non-null object\n",
      "p1_conf     2075 non-null float64\n",
      "p1_dog      2075 non-null bool\n",
      "p2          2075 non-null object\n",
      "p2_conf     2075 non-null float64\n",
      "p2_dog      2075 non-null bool\n",
      "p3          2075 non-null object\n",
      "p3_conf     2075 non-null float64\n",
      "p3_dog      2075 non-null bool\n",
      "dtypes: bool(3), float64(3), int64(2), object(4)\n",
      "memory usage: 152.1+ KB\n"
     ]
    }
   ],
   "source": [
    "df2.info()"
   ]
  },
  {
   "cell_type": "markdown",
   "metadata": {},
   "source": [
    "#### df2 Assessment ####\n",
    "**The following items were assessed to be cleaned in the second dataframe:**<br><br>\n",
    "    **Quality Issues**<br>\n",
    "    **1.** Remove duplicated rows.<br>\n",
    "    **2.** Convert 'tweet_id' column to object (str). <br>\n",
    "    **3.** Create separate column for dog breed based on image prediction model results. If first prediction is identified as a dog, than dog breed will equal 'p1', if not, p2 will be evaluated next, and then p3 if necessary.\n",
    "<br><br>\n",
    "    **Other Issues**<br>\n",
    "    **4.** Remove 'jpg_url' and 'img_num' columns - no valuable information.<br>\n",
    "    **5.** Replace underscore with space for dog breeds. <br><br>"
   ]
  },
  {
   "cell_type": "code",
   "execution_count": 17,
   "metadata": {},
   "outputs": [
    {
     "data": {
      "text/html": [
       "<div>\n",
       "<style scoped>\n",
       "    .dataframe tbody tr th:only-of-type {\n",
       "        vertical-align: middle;\n",
       "    }\n",
       "\n",
       "    .dataframe tbody tr th {\n",
       "        vertical-align: top;\n",
       "    }\n",
       "\n",
       "    .dataframe thead th {\n",
       "        text-align: right;\n",
       "    }\n",
       "</style>\n",
       "<table border=\"1\" class=\"dataframe\">\n",
       "  <thead>\n",
       "    <tr style=\"text-align: right;\">\n",
       "      <th></th>\n",
       "      <th>Created At</th>\n",
       "      <th>tweet_id</th>\n",
       "      <th>Retweet Count</th>\n",
       "      <th>Favorite Count</th>\n",
       "      <th>Retweeted</th>\n",
       "    </tr>\n",
       "  </thead>\n",
       "  <tbody>\n",
       "    <tr>\n",
       "      <th>0</th>\n",
       "      <td>Tue Aug 01 16:23:56 +0000 2017</td>\n",
       "      <td>892420643555336193</td>\n",
       "      <td>8231</td>\n",
       "      <td>37776</td>\n",
       "      <td>False</td>\n",
       "    </tr>\n",
       "    <tr>\n",
       "      <th>1</th>\n",
       "      <td>Tue Aug 01 00:17:27 +0000 2017</td>\n",
       "      <td>892177421306343426</td>\n",
       "      <td>6082</td>\n",
       "      <td>32454</td>\n",
       "      <td>False</td>\n",
       "    </tr>\n",
       "    <tr>\n",
       "      <th>2</th>\n",
       "      <td>Mon Jul 31 00:18:03 +0000 2017</td>\n",
       "      <td>891815181378084864</td>\n",
       "      <td>4026</td>\n",
       "      <td>24437</td>\n",
       "      <td>False</td>\n",
       "    </tr>\n",
       "    <tr>\n",
       "      <th>3</th>\n",
       "      <td>Sun Jul 30 15:58:51 +0000 2017</td>\n",
       "      <td>891689557279858688</td>\n",
       "      <td>8389</td>\n",
       "      <td>41113</td>\n",
       "      <td>False</td>\n",
       "    </tr>\n",
       "    <tr>\n",
       "      <th>4</th>\n",
       "      <td>Sat Jul 29 16:00:24 +0000 2017</td>\n",
       "      <td>891327558926688256</td>\n",
       "      <td>9088</td>\n",
       "      <td>39318</td>\n",
       "      <td>False</td>\n",
       "    </tr>\n",
       "  </tbody>\n",
       "</table>\n",
       "</div>"
      ],
      "text/plain": [
       "                       Created At            tweet_id  Retweet Count  \\\n",
       "0  Tue Aug 01 16:23:56 +0000 2017  892420643555336193           8231   \n",
       "1  Tue Aug 01 00:17:27 +0000 2017  892177421306343426           6082   \n",
       "2  Mon Jul 31 00:18:03 +0000 2017  891815181378084864           4026   \n",
       "3  Sun Jul 30 15:58:51 +0000 2017  891689557279858688           8389   \n",
       "4  Sat Jul 29 16:00:24 +0000 2017  891327558926688256           9088   \n",
       "\n",
       "   Favorite Count  Retweeted  \n",
       "0           37776      False  \n",
       "1           32454      False  \n",
       "2           24437      False  \n",
       "3           41113      False  \n",
       "4           39318      False  "
      ]
     },
     "execution_count": 17,
     "metadata": {},
     "output_type": "execute_result"
    }
   ],
   "source": [
    "df3.head()"
   ]
  },
  {
   "cell_type": "code",
   "execution_count": 18,
   "metadata": {},
   "outputs": [
    {
     "data": {
      "text/html": [
       "<div>\n",
       "<style scoped>\n",
       "    .dataframe tbody tr th:only-of-type {\n",
       "        vertical-align: middle;\n",
       "    }\n",
       "\n",
       "    .dataframe tbody tr th {\n",
       "        vertical-align: top;\n",
       "    }\n",
       "\n",
       "    .dataframe thead th {\n",
       "        text-align: right;\n",
       "    }\n",
       "</style>\n",
       "<table border=\"1\" class=\"dataframe\">\n",
       "  <thead>\n",
       "    <tr style=\"text-align: right;\">\n",
       "      <th></th>\n",
       "      <th>tweet_id</th>\n",
       "      <th>Retweet Count</th>\n",
       "      <th>Favorite Count</th>\n",
       "    </tr>\n",
       "  </thead>\n",
       "  <tbody>\n",
       "    <tr>\n",
       "      <th>count</th>\n",
       "      <td>2.339000e+03</td>\n",
       "      <td>2339.000000</td>\n",
       "      <td>2339.000000</td>\n",
       "    </tr>\n",
       "    <tr>\n",
       "      <th>mean</th>\n",
       "      <td>7.421620e+17</td>\n",
       "      <td>2902.441642</td>\n",
       "      <td>7897.909791</td>\n",
       "    </tr>\n",
       "    <tr>\n",
       "      <th>std</th>\n",
       "      <td>6.828729e+16</td>\n",
       "      <td>4894.003379</td>\n",
       "      <td>12241.943983</td>\n",
       "    </tr>\n",
       "    <tr>\n",
       "      <th>min</th>\n",
       "      <td>6.660209e+17</td>\n",
       "      <td>0.000000</td>\n",
       "      <td>0.000000</td>\n",
       "    </tr>\n",
       "    <tr>\n",
       "      <th>25%</th>\n",
       "      <td>6.783378e+17</td>\n",
       "      <td>583.500000</td>\n",
       "      <td>1368.500000</td>\n",
       "    </tr>\n",
       "    <tr>\n",
       "      <th>50%</th>\n",
       "      <td>7.186133e+17</td>\n",
       "      <td>1353.000000</td>\n",
       "      <td>3438.000000</td>\n",
       "    </tr>\n",
       "    <tr>\n",
       "      <th>75%</th>\n",
       "      <td>7.986907e+17</td>\n",
       "      <td>3383.000000</td>\n",
       "      <td>9675.500000</td>\n",
       "    </tr>\n",
       "    <tr>\n",
       "      <th>max</th>\n",
       "      <td>8.924206e+17</td>\n",
       "      <td>82952.000000</td>\n",
       "      <td>163109.000000</td>\n",
       "    </tr>\n",
       "  </tbody>\n",
       "</table>\n",
       "</div>"
      ],
      "text/plain": [
       "           tweet_id  Retweet Count  Favorite Count\n",
       "count  2.339000e+03    2339.000000     2339.000000\n",
       "mean   7.421620e+17    2902.441642     7897.909791\n",
       "std    6.828729e+16    4894.003379    12241.943983\n",
       "min    6.660209e+17       0.000000        0.000000\n",
       "25%    6.783378e+17     583.500000     1368.500000\n",
       "50%    7.186133e+17    1353.000000     3438.000000\n",
       "75%    7.986907e+17    3383.000000     9675.500000\n",
       "max    8.924206e+17   82952.000000   163109.000000"
      ]
     },
     "execution_count": 18,
     "metadata": {},
     "output_type": "execute_result"
    }
   ],
   "source": [
    "df3.describe()"
   ]
  },
  {
   "cell_type": "code",
   "execution_count": 19,
   "metadata": {},
   "outputs": [
    {
     "name": "stdout",
     "output_type": "stream",
     "text": [
      "<class 'pandas.core.frame.DataFrame'>\n",
      "RangeIndex: 2339 entries, 0 to 2338\n",
      "Data columns (total 5 columns):\n",
      "Created At        2339 non-null object\n",
      "tweet_id          2339 non-null int64\n",
      "Retweet Count     2339 non-null int64\n",
      "Favorite Count    2339 non-null int64\n",
      "Retweeted         2339 non-null bool\n",
      "dtypes: bool(1), int64(3), object(1)\n",
      "memory usage: 75.5+ KB\n"
     ]
    }
   ],
   "source": [
    "df3.info()"
   ]
  },
  {
   "cell_type": "markdown",
   "metadata": {},
   "source": [
    "#### df3 Assessment ####\n",
    "**The following items were assessed to be cleaned in the third dataframe:**<br><br>\n",
    "    **Quality Issues**<br>\n",
    "    **1.** Convert 'Created At' column to DateTime.<br>\n",
    "    **2.** Convert 'tweet_id' column to object (str). <br><br>\n",
    "    **Tidiness Issues**<br>\n",
    "    **3.** Merge critical metrics from all 3 dataframes by 'tweet_id' into one master dataframe.\n",
    "    "
   ]
  },
  {
   "cell_type": "markdown",
   "metadata": {},
   "source": [
    "<a id='wrangling3'></a>\n",
    "### Clean Data ###\n",
    "\n",
    "#### Clean df1"
   ]
  },
  {
   "cell_type": "code",
   "execution_count": 20,
   "metadata": {},
   "outputs": [
    {
     "data": {
      "text/plain": [
       "tweet_id             object\n",
       "timestamp    datetime64[ns]\n",
       "dtype: object"
      ]
     },
     "execution_count": 20,
     "metadata": {},
     "output_type": "execute_result"
    }
   ],
   "source": [
    "# Tweet ID to object & Convert 'timestamp' from object to datetime - Code\n",
    "df1 = pd.read_csv(path)\n",
    "df1['tweet_id'] = df1['tweet_id'].astype(str)\n",
    "df1['timestamp'] = pd.to_datetime(df1['timestamp'])\n",
    "\n",
    "# Test\n",
    "df1[['tweet_id','timestamp']].dtypes"
   ]
  },
  {
   "cell_type": "code",
   "execution_count": 21,
   "metadata": {},
   "outputs": [
    {
     "data": {
      "text/plain": [
       "0    http://twitter.com/download/iphone\n",
       "Name: source, dtype: object"
      ]
     },
     "execution_count": 21,
     "metadata": {},
     "output_type": "execute_result"
    }
   ],
   "source": [
    "# Remove the hyperlink and <a/a> tag for url's in the 'source' column - Code\n",
    "df1['source'] = df1['source'].str.split('\"').str[1] #2356 rows\n",
    "\n",
    "# Test\n",
    "df1['source'].head(1)"
   ]
  },
  {
   "cell_type": "code",
   "execution_count": 22,
   "metadata": {},
   "outputs": [
    {
     "data": {
      "text/plain": [
       "0"
      ]
     },
     "execution_count": 22,
     "metadata": {},
     "output_type": "execute_result"
    }
   ],
   "source": [
    "# Filter out rows with illegitimate rating numerators - Code\n",
    "df1 = df1.query('rating_numerator <14 and rating_numerator > 0') #2272 rows\n",
    "\n",
    "# Test\n",
    "df1.query('rating_numerator >14 and rating_numerator == 0').shape[0]"
   ]
  },
  {
   "cell_type": "code",
   "execution_count": 23,
   "metadata": {},
   "outputs": [
    {
     "name": "stdout",
     "output_type": "stream",
     "text": [
      "45    5\n",
      "Name: rating_numerator, dtype: int64\n",
      "45    13.0\n",
      "Name: rating_numerator, dtype: float64\n"
     ]
    }
   ],
   "source": [
    "# Replace rating with rating specified in text - Code\n",
    "wrong_rating_example = df1[df1['tweet_id'] == \"883482846933004288\"]['rating_numerator']\n",
    "real_rating = df1.text.str.extract(r'(\\d+(?=/))')\n",
    "real_rating.columns = ['rating']\n",
    "df1['rating_numerator'] = df1['rating_numerator'].map(real_rating.rating).astype(float)\n",
    "correct_rating_example = df1[df1['tweet_id'] == \"883482846933004288\"]['rating_numerator']\n",
    "\n",
    "# Test\n",
    "print(wrong_rating_example)\n",
    "print(correct_rating_example)"
   ]
  },
  {
   "cell_type": "code",
   "execution_count": 24,
   "metadata": {},
   "outputs": [
    {
     "name": "stdout",
     "output_type": "stream",
     "text": [
      "7\n",
      "0\n"
     ]
    }
   ],
   "source": [
    "# Filter rows with rating denominator of 10 - Code\n",
    "before_denominator = df1.query('rating_denominator != 10').shape[0]\n",
    "df1['rating_denominator'] = df1.rating_denominator.astype(float)\n",
    "df1 = df1.query('rating_denominator == 10').reset_index(drop=True) #2265 rows\n",
    "after_denominator = df1.query('rating_denominator != 10').shape[0]\n",
    "\n",
    "# Test\n",
    "print(before_denominator)\n",
    "print(after_denominator)"
   ]
  },
  {
   "cell_type": "code",
   "execution_count": 25,
   "metadata": {},
   "outputs": [
    {
     "data": {
      "text/plain": [
       "array(['tweet_id', 'timestamp', 'source', 'text', 'expanded_urls',\n",
       "       'rating_numerator', 'rating_denominator', 'name', 'doggo',\n",
       "       'floofer', 'pupper', 'puppo'], dtype=object)"
      ]
     },
     "execution_count": 25,
     "metadata": {},
     "output_type": "execute_result"
    }
   ],
   "source": [
    "# Remove unnecessary columns from DataFrame - Code\n",
    "drop_columns = ['in_reply_to_status_id','in_reply_to_user_id','retweeted_status_id','retweeted_status_user_id','retweeted_status_timestamp']\n",
    "df1.drop(drop_columns, axis=1, inplace=True)\n",
    "\n",
    "# Test\n",
    "df1.columns.values"
   ]
  },
  {
   "cell_type": "code",
   "execution_count": 26,
   "metadata": {},
   "outputs": [
    {
     "name": "stdout",
     "output_type": "stream",
     "text": [
      "Before -  https://twitter.com/dog_rates/status/891327558926688256/photo/1,https://twitter.com/dog_rates/status/891327558926688256/photo/1\n",
      "After -  https://twitter.com/dog_rates/status/891327558926688256/photo/1\n"
     ]
    }
   ],
   "source": [
    "# Remove duplicate urls in 'expanded_urls' column - Code\n",
    "before_dup_url = df1.expanded_urls[4]\n",
    "df1['expanded_urls'] = df1['expanded_urls'].str.split(',').str[0]\n",
    "after_dup_url = df1.expanded_urls[4]\n",
    "\n",
    "# Test\n",
    "print('Before - ',before_dup_url)\n",
    "print('After - ',after_dup_url)"
   ]
  },
  {
   "cell_type": "code",
   "execution_count": 27,
   "metadata": {},
   "outputs": [
    {
     "data": {
      "text/plain": [
       "0"
      ]
     },
     "execution_count": 27,
     "metadata": {},
     "output_type": "execute_result"
    }
   ],
   "source": [
    "# Remove 'RT' rows - Keep original tweets only - Code\n",
    "drop_retweet = df1.text.str.contains('RT @')\n",
    "drop_retweet = drop_retweet[drop_retweet == True].index.values\n",
    "df1 = df1.drop(df1.index[drop_retweet]).reset_index(drop=True); #2098 rows\n",
    "\n",
    "# Test\n",
    "df1[df1.text.str.contains('RT @')].shape[0]"
   ]
  },
  {
   "cell_type": "code",
   "execution_count": 28,
   "metadata": {},
   "outputs": [
    {
     "name": "stdout",
     "output_type": "stream",
     "text": [
      "['quite', 'quite', 'not', 'incredibly', 'a', 'a', 'very', 'my', 'not', 'his', 'one', 'a', 'a', 'a', 'an', 'very', 'actually', 'a', 'just', 'getting', 'mad', 'very', 'unacceptable', 'all', 'a', 'old', 'a', 'infuriating', 'a', 'a', 'an', 'a', 'a', 'very', 'getting', 'just', 'a', 'the', 'the', 'actually', 'by', 'a', 'officially', 'a', 'the', 'the', 'a', 'a', 'a', 'a', 'life', 'a', 'one', 'a', 'a', 'a', 'light', 'just', 'space', 'a', 'the', 'a', 'a', 'a', 'a', 'a', 'a', 'a', 'a', 'a', 'an', 'a', 'the', 'a', 'a', 'a', 'a', 'a', 'a', 'a', 'a', 'a', 'a', 'a', 'quite', 'a', 'an', 'a', 'the', 'the', 'a', 'a', 'an', 'a', 'a', 'a', 'a']\n",
      "\n",
      "Tweet_ID: 859196978902773760 name was originally my , now it's Zoey .\n"
     ]
    }
   ],
   "source": [
    "# Find all lowercase i.e. fake names in df1, search text for real name, and replace identified names in df1 - Code\n",
    "fake_names = df1[df1.name.str[0]==df1.name.str[0].str.lower()]\n",
    "fake_names_replace = fake_names.text.str.extract(r'(name is |named )(\\w+)').dropna()\n",
    "fake_names_replace.columns = ['keyword','name']\n",
    "df1.iloc[fake_names_replace.index, 7] = fake_names_replace.name #22 additional names identified\n",
    "\n",
    "# Test - List of lowercase (fake) names in df1 before change and an example of the code above.\n",
    "print(fake_names.name.tolist())\n",
    "print()\n",
    "print(\"Tweet_ID:\",fake_names.iloc[0,0],'name was originally',fake_names.iloc[7,7],\", now it's\",df1.iloc[fake_names_replace.index,7].iloc[0],'.')"
   ]
  },
  {
   "cell_type": "code",
   "execution_count": 29,
   "metadata": {},
   "outputs": [
    {
     "data": {
      "text/plain": [
       "0"
      ]
     },
     "execution_count": 29,
     "metadata": {},
     "output_type": "execute_result"
    }
   ],
   "source": [
    "# Capitalize all dog names - Code\n",
    "df1['name'] = df1['name'].str.title()\n",
    "\n",
    "# Test\n",
    "df1[df1.name.str[0]==df1.name.str[0].str.lower()].shape[0]"
   ]
  },
  {
   "cell_type": "code",
   "execution_count": 30,
   "metadata": {},
   "outputs": [
    {
     "name": "stdout",
     "output_type": "stream",
     "text": [
      "12 dogs were identified as multiple dog stages.\n"
     ]
    }
   ],
   "source": [
    "# Identify indices that specify multiple dog stages - Code\n",
    "multiple_stages = (((df1.doggo == 'doggo') & ((df1.floofer == 'floofer') | (df1.pupper == 'pupper') | (df1.puppo == 'puppo'))) | \n",
    "         ((df1.floofer == 'floofer') & ((df1.pupper == 'pupper') | (df1.puppo == 'puppo'))) | ((df1.pupper == 'pupper') & (df1.puppo == 'puppo')))\n",
    "multiple_stages = multiple_stages[multiple_stages == True].index.values\n",
    "\n",
    "# Test\n",
    "print(len(multiple_stages),'dogs were identified as multiple dog stages.')"
   ]
  },
  {
   "cell_type": "code",
   "execution_count": 31,
   "metadata": {},
   "outputs": [],
   "source": [
    "# Write and apply function that creates a 'dog_stage' column to identify dog stage for all tweet id's\n",
    "def func(dataframe):\n",
    "    if dataframe['doggo'] == 'doggo' and dataframe['floofer'] == 'floofer':\n",
    "        return 'doggo, floofer'\n",
    "    elif dataframe['doggo'] == 'doggo' and dataframe['pupper'] == 'pupper':\n",
    "        return 'doggo, pupper'\n",
    "    elif dataframe['doggo'] == 'doggo' and dataframe['puppo'] == 'puppo':\n",
    "        return 'doggo, puppo'\n",
    "    elif dataframe['floofer'] == 'floofer':\n",
    "        return 'floofer'\n",
    "    elif dataframe['pupper'] == 'pupper':\n",
    "        return 'pupper'\n",
    "    elif dataframe['puppo'] == 'puppo':\n",
    "        return 'puppo'\n",
    "    else:\n",
    "        return'None'\n",
    "\n",
    "df1['dog_stage'] = df1.apply(func, axis=1)"
   ]
  },
  {
   "cell_type": "code",
   "execution_count": 32,
   "metadata": {},
   "outputs": [
    {
     "data": {
      "text/html": [
       "<div>\n",
       "<style scoped>\n",
       "    .dataframe tbody tr th:only-of-type {\n",
       "        vertical-align: middle;\n",
       "    }\n",
       "\n",
       "    .dataframe tbody tr th {\n",
       "        vertical-align: top;\n",
       "    }\n",
       "\n",
       "    .dataframe thead th {\n",
       "        text-align: right;\n",
       "    }\n",
       "</style>\n",
       "<table border=\"1\" class=\"dataframe\">\n",
       "  <thead>\n",
       "    <tr style=\"text-align: right;\">\n",
       "      <th></th>\n",
       "      <th>tweet_id</th>\n",
       "      <th>timestamp</th>\n",
       "      <th>source</th>\n",
       "      <th>text</th>\n",
       "      <th>expanded_urls</th>\n",
       "      <th>rating_numerator</th>\n",
       "      <th>rating_denominator</th>\n",
       "      <th>name</th>\n",
       "      <th>dog_stage</th>\n",
       "    </tr>\n",
       "  </thead>\n",
       "  <tbody>\n",
       "    <tr>\n",
       "      <th>145</th>\n",
       "      <td>855851453814013952</td>\n",
       "      <td>2017-04-22 18:31:02</td>\n",
       "      <td>http://twitter.com/download/iphone</td>\n",
       "      <td>Here's a puppo participating in the #ScienceMa...</td>\n",
       "      <td>https://twitter.com/dog_rates/status/855851453...</td>\n",
       "      <td>12.0</td>\n",
       "      <td>10.0</td>\n",
       "      <td>None</td>\n",
       "      <td>doggo, puppo</td>\n",
       "    </tr>\n",
       "    <tr>\n",
       "      <th>151</th>\n",
       "      <td>854010172552949760</td>\n",
       "      <td>2017-04-17 16:34:26</td>\n",
       "      <td>http://twitter.com/download/iphone</td>\n",
       "      <td>At first I thought this was a shy doggo, but i...</td>\n",
       "      <td>https://twitter.com/dog_rates/status/854010172...</td>\n",
       "      <td>13.0</td>\n",
       "      <td>10.0</td>\n",
       "      <td>None</td>\n",
       "      <td>doggo, floofer</td>\n",
       "    </tr>\n",
       "  </tbody>\n",
       "</table>\n",
       "</div>"
      ],
      "text/plain": [
       "               tweet_id           timestamp  \\\n",
       "145  855851453814013952 2017-04-22 18:31:02   \n",
       "151  854010172552949760 2017-04-17 16:34:26   \n",
       "\n",
       "                                 source  \\\n",
       "145  http://twitter.com/download/iphone   \n",
       "151  http://twitter.com/download/iphone   \n",
       "\n",
       "                                                  text  \\\n",
       "145  Here's a puppo participating in the #ScienceMa...   \n",
       "151  At first I thought this was a shy doggo, but i...   \n",
       "\n",
       "                                         expanded_urls  rating_numerator  \\\n",
       "145  https://twitter.com/dog_rates/status/855851453...              12.0   \n",
       "151  https://twitter.com/dog_rates/status/854010172...              13.0   \n",
       "\n",
       "     rating_denominator  name       dog_stage  \n",
       "145                10.0  None    doggo, puppo  \n",
       "151                10.0  None  doggo, floofer  "
      ]
     },
     "execution_count": 32,
     "metadata": {},
     "output_type": "execute_result"
    }
   ],
   "source": [
    "# Verify rows with multiple stages were handled correctly and drop individual dog stage columns - Code\n",
    "df1 = df1.drop(columns = ['doggo','floofer','puppo','pupper'])\n",
    "\n",
    "# Test\n",
    "df1.iloc[multiple_stages,:].head(2)"
   ]
  },
  {
   "cell_type": "code",
   "execution_count": 33,
   "metadata": {},
   "outputs": [
    {
     "name": "stdout",
     "output_type": "stream",
     "text": [
      "By scanning text for each ID, 92 additional dog stages were specified.\n"
     ]
    }
   ],
   "source": [
    "# Scan text column to identify additional dog stages (Only for dog stages that are not already identified) - Code\n",
    "df_add = df1.query('dog_stage == \"None\"').reset_index(drop=False)\n",
    "keywords = ['puppo','doggo','pupper','floofer']\n",
    "df_add['dog_stage']=df_add.text.str.extract('({})'.format('|'.join(keywords)))\n",
    "df_add = df_add.dropna(subset=['dog_stage'])\n",
    "df_add = df_add.filter(['index','dog_stage'], axis=1).set_index('index')\n",
    "\n",
    "dummy = df_add.copy()\n",
    "df1.loc[df1.index.isin(dummy.index), ['dog_stage']] = dummy['dog_stage'].values\n",
    "\n",
    "# Test\n",
    "print('By scanning text for each ID,', len(df_add), 'additional dog stages were specified.')"
   ]
  },
  {
   "cell_type": "code",
   "execution_count": 34,
   "metadata": {
    "scrolled": true
   },
   "outputs": [
    {
     "data": {
      "text/html": [
       "<div>\n",
       "<style scoped>\n",
       "    .dataframe tbody tr th:only-of-type {\n",
       "        vertical-align: middle;\n",
       "    }\n",
       "\n",
       "    .dataframe tbody tr th {\n",
       "        vertical-align: top;\n",
       "    }\n",
       "\n",
       "    .dataframe thead th {\n",
       "        text-align: right;\n",
       "    }\n",
       "</style>\n",
       "<table border=\"1\" class=\"dataframe\">\n",
       "  <thead>\n",
       "    <tr style=\"text-align: right;\">\n",
       "      <th></th>\n",
       "      <th>tweet_id</th>\n",
       "      <th>timestamp</th>\n",
       "      <th>source</th>\n",
       "      <th>text</th>\n",
       "      <th>expanded_urls</th>\n",
       "      <th>rating_numerator</th>\n",
       "      <th>rating_denominator</th>\n",
       "      <th>name</th>\n",
       "      <th>dog_stage</th>\n",
       "    </tr>\n",
       "  </thead>\n",
       "  <tbody>\n",
       "    <tr>\n",
       "      <th>0</th>\n",
       "      <td>892420643555336193</td>\n",
       "      <td>2017-08-01 16:23:56</td>\n",
       "      <td>http://twitter.com/download/iphone</td>\n",
       "      <td>This is Phineas. He's a mystical boy. Only eve...</td>\n",
       "      <td>https://twitter.com/dog_rates/status/892420643...</td>\n",
       "      <td>12.0</td>\n",
       "      <td>10.0</td>\n",
       "      <td>Phineas</td>\n",
       "      <td>None</td>\n",
       "    </tr>\n",
       "    <tr>\n",
       "      <th>1</th>\n",
       "      <td>892177421306343426</td>\n",
       "      <td>2017-08-01 00:17:27</td>\n",
       "      <td>http://twitter.com/download/iphone</td>\n",
       "      <td>This is Tilly. She's just checking pup on you....</td>\n",
       "      <td>https://twitter.com/dog_rates/status/892177421...</td>\n",
       "      <td>12.0</td>\n",
       "      <td>10.0</td>\n",
       "      <td>Tilly</td>\n",
       "      <td>None</td>\n",
       "    </tr>\n",
       "    <tr>\n",
       "      <th>2</th>\n",
       "      <td>891815181378084864</td>\n",
       "      <td>2017-07-31 00:18:03</td>\n",
       "      <td>http://twitter.com/download/iphone</td>\n",
       "      <td>This is Archie. He is a rare Norwegian Pouncin...</td>\n",
       "      <td>https://twitter.com/dog_rates/status/891815181...</td>\n",
       "      <td>13.0</td>\n",
       "      <td>10.0</td>\n",
       "      <td>Archie</td>\n",
       "      <td>None</td>\n",
       "    </tr>\n",
       "  </tbody>\n",
       "</table>\n",
       "</div>"
      ],
      "text/plain": [
       "             tweet_id           timestamp                              source  \\\n",
       "0  892420643555336193 2017-08-01 16:23:56  http://twitter.com/download/iphone   \n",
       "1  892177421306343426 2017-08-01 00:17:27  http://twitter.com/download/iphone   \n",
       "2  891815181378084864 2017-07-31 00:18:03  http://twitter.com/download/iphone   \n",
       "\n",
       "                                                text  \\\n",
       "0  This is Phineas. He's a mystical boy. Only eve...   \n",
       "1  This is Tilly. She's just checking pup on you....   \n",
       "2  This is Archie. He is a rare Norwegian Pouncin...   \n",
       "\n",
       "                                       expanded_urls  rating_numerator  \\\n",
       "0  https://twitter.com/dog_rates/status/892420643...              12.0   \n",
       "1  https://twitter.com/dog_rates/status/892177421...              12.0   \n",
       "2  https://twitter.com/dog_rates/status/891815181...              13.0   \n",
       "\n",
       "   rating_denominator     name dog_stage  \n",
       "0                10.0  Phineas      None  \n",
       "1                10.0    Tilly      None  \n",
       "2                10.0   Archie      None  "
      ]
     },
     "execution_count": 34,
     "metadata": {},
     "output_type": "execute_result"
    }
   ],
   "source": [
    "# Test - View cleaned df1 DataFrame\n",
    "df1.head(3)"
   ]
  },
  {
   "cell_type": "markdown",
   "metadata": {},
   "source": [
    "#### Clean df2"
   ]
  },
  {
   "cell_type": "code",
   "execution_count": 35,
   "metadata": {},
   "outputs": [
    {
     "data": {
      "text/plain": [
       "dtype('O')"
      ]
     },
     "execution_count": 35,
     "metadata": {},
     "output_type": "execute_result"
    }
   ],
   "source": [
    "df2 = pd.read_csv(path2, sep = '\\t') #2075 rows\n",
    "\n",
    "# Tweet ID to object - Code\n",
    "df2['tweet_id'] = df2['tweet_id'].astype(str)\n",
    "\n",
    "# Test\n",
    "df2['tweet_id'].dtype"
   ]
  },
  {
   "cell_type": "code",
   "execution_count": 36,
   "metadata": {},
   "outputs": [
    {
     "name": "stdout",
     "output_type": "stream",
     "text": [
      "There are 0 duplicated rows in df2.\n",
      "Cleaned df2 columns - ['tweet_id' 'p1' 'p1_conf' 'p1_dog' 'p2' 'p2_conf' 'p2_dog' 'p3' 'p3_conf'\n",
      " 'p3_dog']\n"
     ]
    }
   ],
   "source": [
    "# Drop unnecessary columns and duplicated rows - Code\n",
    "df2_duplicates = df2[df2.jpg_url.duplicated()].index.values\n",
    "df2 = df2.drop(df2.index[df2_duplicates]).reset_index(drop=True) #2009 rows\n",
    "df2.drop(['jpg_url','img_num'], axis=1, inplace=True)\n",
    "\n",
    "# Test\n",
    "print('There are',df2.duplicated().sum(),'duplicated rows in df2.')\n",
    "print('Cleaned df2 columns -',df2.columns.values)"
   ]
  },
  {
   "cell_type": "code",
   "execution_count": 37,
   "metadata": {
    "scrolled": true
   },
   "outputs": [
    {
     "data": {
      "text/html": [
       "<div>\n",
       "<style scoped>\n",
       "    .dataframe tbody tr th:only-of-type {\n",
       "        vertical-align: middle;\n",
       "    }\n",
       "\n",
       "    .dataframe tbody tr th {\n",
       "        vertical-align: top;\n",
       "    }\n",
       "\n",
       "    .dataframe thead th {\n",
       "        text-align: right;\n",
       "    }\n",
       "</style>\n",
       "<table border=\"1\" class=\"dataframe\">\n",
       "  <thead>\n",
       "    <tr style=\"text-align: right;\">\n",
       "      <th></th>\n",
       "      <th>tweet_id</th>\n",
       "      <th>p1</th>\n",
       "      <th>p1_conf</th>\n",
       "      <th>p1_dog</th>\n",
       "      <th>p2</th>\n",
       "      <th>p2_conf</th>\n",
       "      <th>p2_dog</th>\n",
       "      <th>p3</th>\n",
       "      <th>p3_conf</th>\n",
       "      <th>p3_dog</th>\n",
       "      <th>dog_breed</th>\n",
       "      <th>prediction</th>\n",
       "      <th>confidence</th>\n",
       "    </tr>\n",
       "  </thead>\n",
       "  <tbody>\n",
       "    <tr>\n",
       "      <th>0</th>\n",
       "      <td>666020888022790149</td>\n",
       "      <td>Welsh_springer_spaniel</td>\n",
       "      <td>0.465074</td>\n",
       "      <td>True</td>\n",
       "      <td>collie</td>\n",
       "      <td>0.156665</td>\n",
       "      <td>True</td>\n",
       "      <td>Shetland_sheepdog</td>\n",
       "      <td>0.061428</td>\n",
       "      <td>True</td>\n",
       "      <td>Welsh Springer Spaniel</td>\n",
       "      <td>p1</td>\n",
       "      <td>0.465074</td>\n",
       "    </tr>\n",
       "    <tr>\n",
       "      <th>1</th>\n",
       "      <td>666029285002620928</td>\n",
       "      <td>redbone</td>\n",
       "      <td>0.506826</td>\n",
       "      <td>True</td>\n",
       "      <td>miniature_pinscher</td>\n",
       "      <td>0.074192</td>\n",
       "      <td>True</td>\n",
       "      <td>Rhodesian_ridgeback</td>\n",
       "      <td>0.072010</td>\n",
       "      <td>True</td>\n",
       "      <td>Redbone</td>\n",
       "      <td>p1</td>\n",
       "      <td>0.506826</td>\n",
       "    </tr>\n",
       "    <tr>\n",
       "      <th>2</th>\n",
       "      <td>666033412701032449</td>\n",
       "      <td>German_shepherd</td>\n",
       "      <td>0.596461</td>\n",
       "      <td>True</td>\n",
       "      <td>malinois</td>\n",
       "      <td>0.138584</td>\n",
       "      <td>True</td>\n",
       "      <td>bloodhound</td>\n",
       "      <td>0.116197</td>\n",
       "      <td>True</td>\n",
       "      <td>German Shepherd</td>\n",
       "      <td>p1</td>\n",
       "      <td>0.596461</td>\n",
       "    </tr>\n",
       "    <tr>\n",
       "      <th>3</th>\n",
       "      <td>666044226329800704</td>\n",
       "      <td>Rhodesian_ridgeback</td>\n",
       "      <td>0.408143</td>\n",
       "      <td>True</td>\n",
       "      <td>redbone</td>\n",
       "      <td>0.360687</td>\n",
       "      <td>True</td>\n",
       "      <td>miniature_pinscher</td>\n",
       "      <td>0.222752</td>\n",
       "      <td>True</td>\n",
       "      <td>Rhodesian Ridgeback</td>\n",
       "      <td>p1</td>\n",
       "      <td>0.408143</td>\n",
       "    </tr>\n",
       "    <tr>\n",
       "      <th>4</th>\n",
       "      <td>666049248165822465</td>\n",
       "      <td>miniature_pinscher</td>\n",
       "      <td>0.560311</td>\n",
       "      <td>True</td>\n",
       "      <td>Rottweiler</td>\n",
       "      <td>0.243682</td>\n",
       "      <td>True</td>\n",
       "      <td>Doberman</td>\n",
       "      <td>0.154629</td>\n",
       "      <td>True</td>\n",
       "      <td>Miniature Pinscher</td>\n",
       "      <td>p1</td>\n",
       "      <td>0.560311</td>\n",
       "    </tr>\n",
       "  </tbody>\n",
       "</table>\n",
       "</div>"
      ],
      "text/plain": [
       "             tweet_id                      p1   p1_conf  p1_dog  \\\n",
       "0  666020888022790149  Welsh_springer_spaniel  0.465074    True   \n",
       "1  666029285002620928                 redbone  0.506826    True   \n",
       "2  666033412701032449         German_shepherd  0.596461    True   \n",
       "3  666044226329800704     Rhodesian_ridgeback  0.408143    True   \n",
       "4  666049248165822465      miniature_pinscher  0.560311    True   \n",
       "\n",
       "                   p2   p2_conf  p2_dog                   p3   p3_conf  \\\n",
       "0              collie  0.156665    True    Shetland_sheepdog  0.061428   \n",
       "1  miniature_pinscher  0.074192    True  Rhodesian_ridgeback  0.072010   \n",
       "2            malinois  0.138584    True           bloodhound  0.116197   \n",
       "3             redbone  0.360687    True   miniature_pinscher  0.222752   \n",
       "4          Rottweiler  0.243682    True             Doberman  0.154629   \n",
       "\n",
       "   p3_dog               dog_breed prediction  confidence  \n",
       "0    True  Welsh Springer Spaniel         p1    0.465074  \n",
       "1    True                 Redbone         p1    0.506826  \n",
       "2    True         German Shepherd         p1    0.596461  \n",
       "3    True     Rhodesian Ridgeback         p1    0.408143  \n",
       "4    True      Miniature Pinscher         p1    0.560311  "
      ]
     },
     "execution_count": 37,
     "metadata": {},
     "output_type": "execute_result"
    }
   ],
   "source": [
    "# Create dog breed column. See Assessment for detail\n",
    "dogbreed = []\n",
    "prediction = []\n",
    "prediction_conf = []\n",
    "N = len(df2)\n",
    "for i in range(N):\n",
    "    if df2['p1_dog'][i] == True:\n",
    "        breed = df2['p1'][i]\n",
    "        pred = 'p1'\n",
    "        conf = df2['p1_conf'][i]\n",
    "    elif df2['p2_dog'][i] == True:\n",
    "        breed = df2['p2'][i]\n",
    "        pred = 'p2'\n",
    "        conf = df2['p2_conf'][i]\n",
    "    elif df2['p3_dog'][i] == True:\n",
    "        breed = df2['p3'][i]\n",
    "        pred = 'p3'\n",
    "        conf = df2['p3_conf'][i]\n",
    "    else:\n",
    "        breed = 'Not Specified'\n",
    "        pred = 'Not A Dog'\n",
    "        conf = df2['p1_conf'][i]\n",
    "    dogbreed.append(breed)\n",
    "    prediction.append(pred)\n",
    "    prediction_conf.append(conf)\n",
    "df2['dog_breed'] = dogbreed\n",
    "df2['prediction'] = prediction\n",
    "df2['confidence'] = prediction_conf\n",
    "\n",
    "# Remove underscore's from 'dog_breed' column and capitalize dog breeds\n",
    "df2['dog_breed'] = df2.dog_breed.str.replace('_', ' ')\n",
    "df2['dog_breed'] = df2['dog_breed'].str.title() \n",
    "\n",
    "# Test - View df2 dataframe\n",
    "df2.head()"
   ]
  },
  {
   "cell_type": "markdown",
   "metadata": {},
   "source": [
    "#### Clean df3"
   ]
  },
  {
   "cell_type": "code",
   "execution_count": 38,
   "metadata": {},
   "outputs": [
    {
     "data": {
      "text/plain": [
       "tweet_id              object\n",
       "Created At    datetime64[ns]\n",
       "dtype: object"
      ]
     },
     "execution_count": 38,
     "metadata": {},
     "output_type": "execute_result"
    }
   ],
   "source": [
    "# Convert 'Created At' column from object to datetime, and 'tweet_id' to object\n",
    "df3['Created At'] = pd.to_datetime(df3['Created At'])\n",
    "df3['tweet_id'] = df3['tweet_id'].astype(str)\n",
    "\n",
    "# Test\n",
    "df3[['tweet_id','Created At']].dtypes"
   ]
  },
  {
   "cell_type": "code",
   "execution_count": 39,
   "metadata": {},
   "outputs": [
    {
     "data": {
      "text/html": [
       "<div>\n",
       "<style scoped>\n",
       "    .dataframe tbody tr th:only-of-type {\n",
       "        vertical-align: middle;\n",
       "    }\n",
       "\n",
       "    .dataframe tbody tr th {\n",
       "        vertical-align: top;\n",
       "    }\n",
       "\n",
       "    .dataframe thead th {\n",
       "        text-align: right;\n",
       "    }\n",
       "</style>\n",
       "<table border=\"1\" class=\"dataframe\">\n",
       "  <thead>\n",
       "    <tr style=\"text-align: right;\">\n",
       "      <th></th>\n",
       "      <th>Created At</th>\n",
       "      <th>tweet_id</th>\n",
       "      <th>Retweet Count</th>\n",
       "      <th>Favorite Count</th>\n",
       "      <th>Retweeted</th>\n",
       "    </tr>\n",
       "  </thead>\n",
       "  <tbody>\n",
       "    <tr>\n",
       "      <th>0</th>\n",
       "      <td>2017-08-01 16:23:56</td>\n",
       "      <td>892420643555336193</td>\n",
       "      <td>8231</td>\n",
       "      <td>37776</td>\n",
       "      <td>False</td>\n",
       "    </tr>\n",
       "    <tr>\n",
       "      <th>1</th>\n",
       "      <td>2017-08-01 00:17:27</td>\n",
       "      <td>892177421306343426</td>\n",
       "      <td>6082</td>\n",
       "      <td>32454</td>\n",
       "      <td>False</td>\n",
       "    </tr>\n",
       "    <tr>\n",
       "      <th>2</th>\n",
       "      <td>2017-07-31 00:18:03</td>\n",
       "      <td>891815181378084864</td>\n",
       "      <td>4026</td>\n",
       "      <td>24437</td>\n",
       "      <td>False</td>\n",
       "    </tr>\n",
       "    <tr>\n",
       "      <th>3</th>\n",
       "      <td>2017-07-30 15:58:51</td>\n",
       "      <td>891689557279858688</td>\n",
       "      <td>8389</td>\n",
       "      <td>41113</td>\n",
       "      <td>False</td>\n",
       "    </tr>\n",
       "    <tr>\n",
       "      <th>4</th>\n",
       "      <td>2017-07-29 16:00:24</td>\n",
       "      <td>891327558926688256</td>\n",
       "      <td>9088</td>\n",
       "      <td>39318</td>\n",
       "      <td>False</td>\n",
       "    </tr>\n",
       "  </tbody>\n",
       "</table>\n",
       "</div>"
      ],
      "text/plain": [
       "           Created At            tweet_id  Retweet Count  Favorite Count  \\\n",
       "0 2017-08-01 16:23:56  892420643555336193           8231           37776   \n",
       "1 2017-08-01 00:17:27  892177421306343426           6082           32454   \n",
       "2 2017-07-31 00:18:03  891815181378084864           4026           24437   \n",
       "3 2017-07-30 15:58:51  891689557279858688           8389           41113   \n",
       "4 2017-07-29 16:00:24  891327558926688256           9088           39318   \n",
       "\n",
       "   Retweeted  \n",
       "0      False  \n",
       "1      False  \n",
       "2      False  \n",
       "3      False  \n",
       "4      False  "
      ]
     },
     "execution_count": 39,
     "metadata": {},
     "output_type": "execute_result"
    }
   ],
   "source": [
    "# Test - View df3 DataFrame\n",
    "df3.head()"
   ]
  },
  {
   "cell_type": "code",
   "execution_count": 40,
   "metadata": {},
   "outputs": [],
   "source": [
    "# Save cleaned DataFrames to .csv's\n",
    "df1.to_csv('twitter_archive_updated.csv', index = False)\n",
    "df2.to_csv('image_prediction_results.csv', index = False)\n",
    "df3.to_csv('twitter_api_data.csv', index = False)"
   ]
  },
  {
   "cell_type": "markdown",
   "metadata": {},
   "source": [
    "<a id='EDA'></a>\n",
    "### Exploratory Data Analysis ###"
   ]
  },
  {
   "cell_type": "code",
   "execution_count": 41,
   "metadata": {
    "scrolled": false
   },
   "outputs": [
    {
     "data": {
      "image/png": "[encoded data removed]",
      "text/plain": [
       "<Figure size 504x324 with 1 Axes>"
      ]
     },
     "metadata": {},
     "output_type": "display_data"
    }
   ],
   "source": [
    "# Plot Average Rating by Dog Breed\n",
    "stage = df1.query('dog_stage != \"None\"')\n",
    "stage = stage.groupby('dog_stage').mean().reset_index()\n",
    "\n",
    "sns.set()\n",
    "plt.figure(figsize=(7,4.5))\n",
    "g = sns.barplot(data = stage, x = 'dog_stage', y = 'rating_numerator', color = 'red', alpha = 0.75)\n",
    "plt.title('Average Rating by Dog Stage', fontsize = 12)\n",
    "plt.xticks(rotation=45, fontsize = 11);\n",
    "plt.xlabel('Dog Stage', fontsize = 11);\n",
    "plt.ylabel('Average Rating', fontsize = 11);\n",
    "g.xaxis.label.set_visible(False)\n",
    "\n",
    "for p in g.patches:\n",
    "    g.annotate(\"%.2f\" % p.get_height(), (p.get_x() + p.get_width() / 2., p.get_height()), ha='center', va='center', fontsize=11, color='black', xytext=(0, 4), textcoords='offset points')\n",
    "\n",
    "plt.show()"
   ]
  },
  {
   "cell_type": "code",
   "execution_count": 42,
   "metadata": {},
   "outputs": [
    {
     "data": {
      "text/html": [
       "<div>\n",
       "<style scoped>\n",
       "    .dataframe tbody tr th:only-of-type {\n",
       "        vertical-align: middle;\n",
       "    }\n",
       "\n",
       "    .dataframe tbody tr th {\n",
       "        vertical-align: top;\n",
       "    }\n",
       "\n",
       "    .dataframe thead th {\n",
       "        text-align: right;\n",
       "    }\n",
       "</style>\n",
       "<table border=\"1\" class=\"dataframe\">\n",
       "  <thead>\n",
       "    <tr style=\"text-align: right;\">\n",
       "      <th></th>\n",
       "      <th>dog_stage</th>\n",
       "      <th>count</th>\n",
       "      <th>mean</th>\n",
       "      <th>std</th>\n",
       "      <th>min</th>\n",
       "      <th>25%</th>\n",
       "      <th>50%</th>\n",
       "      <th>75%</th>\n",
       "      <th>max</th>\n",
       "    </tr>\n",
       "  </thead>\n",
       "  <tbody>\n",
       "    <tr>\n",
       "      <th>0</th>\n",
       "      <td>doggo</td>\n",
       "      <td>66.0</td>\n",
       "      <td>12.727273</td>\n",
       "      <td>0.448775</td>\n",
       "      <td>12.0</td>\n",
       "      <td>12.0</td>\n",
       "      <td>13.0</td>\n",
       "      <td>13.0</td>\n",
       "      <td>13.0</td>\n",
       "    </tr>\n",
       "    <tr>\n",
       "      <th>1</th>\n",
       "      <td>doggo, floofer</td>\n",
       "      <td>1.0</td>\n",
       "      <td>13.000000</td>\n",
       "      <td>NaN</td>\n",
       "      <td>13.0</td>\n",
       "      <td>13.0</td>\n",
       "      <td>13.0</td>\n",
       "      <td>13.0</td>\n",
       "      <td>13.0</td>\n",
       "    </tr>\n",
       "    <tr>\n",
       "      <th>2</th>\n",
       "      <td>doggo, pupper</td>\n",
       "      <td>10.0</td>\n",
       "      <td>12.900000</td>\n",
       "      <td>0.316228</td>\n",
       "      <td>12.0</td>\n",
       "      <td>13.0</td>\n",
       "      <td>13.0</td>\n",
       "      <td>13.0</td>\n",
       "      <td>13.0</td>\n",
       "    </tr>\n",
       "    <tr>\n",
       "      <th>3</th>\n",
       "      <td>doggo, puppo</td>\n",
       "      <td>1.0</td>\n",
       "      <td>12.000000</td>\n",
       "      <td>NaN</td>\n",
       "      <td>12.0</td>\n",
       "      <td>12.0</td>\n",
       "      <td>12.0</td>\n",
       "      <td>12.0</td>\n",
       "      <td>12.0</td>\n",
       "    </tr>\n",
       "    <tr>\n",
       "      <th>4</th>\n",
       "      <td>floofer</td>\n",
       "      <td>9.0</td>\n",
       "      <td>12.666667</td>\n",
       "      <td>0.500000</td>\n",
       "      <td>12.0</td>\n",
       "      <td>12.0</td>\n",
       "      <td>13.0</td>\n",
       "      <td>13.0</td>\n",
       "      <td>13.0</td>\n",
       "    </tr>\n",
       "    <tr>\n",
       "      <th>5</th>\n",
       "      <td>pupper</td>\n",
       "      <td>216.0</td>\n",
       "      <td>12.907407</td>\n",
       "      <td>0.290534</td>\n",
       "      <td>12.0</td>\n",
       "      <td>13.0</td>\n",
       "      <td>13.0</td>\n",
       "      <td>13.0</td>\n",
       "      <td>13.0</td>\n",
       "    </tr>\n",
       "    <tr>\n",
       "      <th>6</th>\n",
       "      <td>puppo</td>\n",
       "      <td>30.0</td>\n",
       "      <td>12.533333</td>\n",
       "      <td>0.507416</td>\n",
       "      <td>12.0</td>\n",
       "      <td>12.0</td>\n",
       "      <td>13.0</td>\n",
       "      <td>13.0</td>\n",
       "      <td>13.0</td>\n",
       "    </tr>\n",
       "  </tbody>\n",
       "</table>\n",
       "</div>"
      ],
      "text/plain": [
       "        dog_stage  count       mean       std   min   25%   50%   75%   max\n",
       "0           doggo   66.0  12.727273  0.448775  12.0  12.0  13.0  13.0  13.0\n",
       "1  doggo, floofer    1.0  13.000000       NaN  13.0  13.0  13.0  13.0  13.0\n",
       "2   doggo, pupper   10.0  12.900000  0.316228  12.0  13.0  13.0  13.0  13.0\n",
       "3    doggo, puppo    1.0  12.000000       NaN  12.0  12.0  12.0  12.0  12.0\n",
       "4         floofer    9.0  12.666667  0.500000  12.0  12.0  13.0  13.0  13.0\n",
       "5          pupper  216.0  12.907407  0.290534  12.0  13.0  13.0  13.0  13.0\n",
       "6           puppo   30.0  12.533333  0.507416  12.0  12.0  13.0  13.0  13.0"
      ]
     },
     "execution_count": 42,
     "metadata": {},
     "output_type": "execute_result"
    }
   ],
   "source": [
    "df1.query('dog_stage != \"None\"').groupby('dog_stage')['rating_numerator'].describe().reset_index(drop=False)"
   ]
  },
  {
   "cell_type": "code",
   "execution_count": 43,
   "metadata": {
    "scrolled": false
   },
   "outputs": [
    {
     "name": "stdout",
     "output_type": "stream",
     "text": [
      "Green = p3, Blue = p2, Red = p1\n"
     ]
    },
    {
     "data": {
      "image/png": "[encoded data removed]",
      "text/plain": [
       "<Figure size 504x360 with 1 Axes>"
      ]
     },
     "metadata": {},
     "output_type": "display_data"
    }
   ],
   "source": [
    "# Plot Confidence Intervals for top 3 predictions from image prediction model\n",
    "plt.figure(figsize=(7,5));\n",
    "plt.hist(df2.p1_conf, alpha = 0.5, color='red');\n",
    "plt.hist(df2.p2_conf, alpha = 0.5, color='blue');\n",
    "plt.hist(df2.p3_conf, alpha = 0.5, color='green');\n",
    "plt.title('Image Prediction Confidence Distribution');\n",
    "plt.ylabel('Count', fontsize = 11);\n",
    "plt.xlabel('Confidence',fontsize = 11);\n",
    "print('Green = p3, Blue = p2, Red = p1')"
   ]
  },
  {
   "cell_type": "code",
   "execution_count": 44,
   "metadata": {
    "scrolled": true
   },
   "outputs": [
    {
     "name": "stdout",
     "output_type": "stream",
     "text": [
      "p1           1480\n",
      "Not A Dog     318\n",
      "p2            149\n",
      "p3             62\n",
      "Name: prediction, dtype: int64\n",
      "0.11199592553892626\n",
      "0.050793745372580634\n"
     ]
    }
   ],
   "source": [
    "# Count how many times each prediction model was used to identify a dog breed\n",
    "print(df2['prediction'].value_counts())\n",
    "print(df2.query('prediction == \"p2\"')['confidence'].mean())\n",
    "print(df2.query('prediction == \"p3\"')['confidence'].mean())"
   ]
  },
  {
   "cell_type": "markdown",
   "metadata": {},
   "source": [
    "**By assessing the prediction model, we can see that over 200 dog breed identifications were 2nd and 3rd predictions made from the model. Because this comprises of over 10% of the total predictions, this should be accounted for. Below, only predictions with a confidence over 25% will be used to analyze the dataset and make a conclusion.**"
   ]
  },
  {
   "cell_type": "code",
   "execution_count": 45,
   "metadata": {},
   "outputs": [],
   "source": [
    "# Analyze which dog breeds gathered most retweets and favorites over lifecycle of WeAreDogs account\n",
    "breed1 = pd.merge(df2, df3, on='tweet_id', how='outer')\n",
    "breed1 = breed1.query('confidence >= 0.25').groupby('dog_breed')['Retweet Count', 'Favorite Count'].sum().reset_index(drop=False)\n",
    "Retweet = breed1.sort_values(by = [\"Retweet Count\"],ascending=False).reset_index(drop=True).drop(index=0).head(10)\n",
    "Favorite = breed1.sort_values(by = [\"Favorite Count\"],ascending=False).reset_index(drop=True).drop(index=0).head(10)"
   ]
  },
  {
   "cell_type": "code",
   "execution_count": 46,
   "metadata": {},
   "outputs": [],
   "source": [
    "# Normalize data to account for dog breed counts\n",
    "breed2 = pd.merge(df2, df3, on='tweet_id', how='outer')\n",
    "breed2 = breed2.query('confidence >= 0.25')['dog_breed'].value_counts().reset_index(drop=False).drop(index=0)\n",
    "breed2 = breed2.rename(columns={'index':'dog_breed','dog_breed':'dog_count'})\n",
    "\n",
    "breed_final = pd.merge(breed1, breed2, on='dog_breed', how='outer')\n",
    "breed_final['Retweet Norm'] = breed_final['Retweet Count'] / breed_final['dog_count']\n",
    "breed_final['Favorite Norm'] = breed_final['Favorite Count'] / breed_final['dog_count']\n",
    "\n",
    "# Create normalized DataFrames comprised of dog breeds with a dog count (i.e. tweet count) of 3 or higher\n",
    "Retweet_norm = breed_final.query('dog_count > 2').sort_values(by = [\"Retweet Norm\"],ascending=False).reset_index(drop=True).head(10)\n",
    "Favorite_norm = breed_final.query('dog_count > 2').sort_values(by = [\"Favorite Norm\"],ascending=False).reset_index(drop=True).head(10)\n",
    "\n",
    "# Filter necessary columns\n",
    "Retweet_norm = Retweet_norm[['dog_breed','Retweet Norm','Favorite Norm', 'dog_count']]\n",
    "Favorite_norm = Retweet_norm[['dog_breed','Favorite Norm','Retweet Norm', 'dog_count']]"
   ]
  },
  {
   "cell_type": "code",
   "execution_count": 47,
   "metadata": {},
   "outputs": [
    {
     "data": {
      "text/html": [
       "<div>\n",
       "<style scoped>\n",
       "    .dataframe tbody tr th:only-of-type {\n",
       "        vertical-align: middle;\n",
       "    }\n",
       "\n",
       "    .dataframe tbody tr th {\n",
       "        vertical-align: top;\n",
       "    }\n",
       "\n",
       "    .dataframe thead th {\n",
       "        text-align: right;\n",
       "    }\n",
       "</style>\n",
       "<table border=\"1\" class=\"dataframe\">\n",
       "  <thead>\n",
       "    <tr style=\"text-align: right;\">\n",
       "      <th></th>\n",
       "      <th>dog_breed</th>\n",
       "      <th>Retweet Count</th>\n",
       "      <th>Favorite Count</th>\n",
       "    </tr>\n",
       "  </thead>\n",
       "  <tbody>\n",
       "    <tr>\n",
       "      <th>1</th>\n",
       "      <td>Golden Retriever</td>\n",
       "      <td>447797.0</td>\n",
       "      <td>1582711.0</td>\n",
       "    </tr>\n",
       "    <tr>\n",
       "      <th>2</th>\n",
       "      <td>Labrador Retriever</td>\n",
       "      <td>341991.0</td>\n",
       "      <td>1066241.0</td>\n",
       "    </tr>\n",
       "    <tr>\n",
       "      <th>3</th>\n",
       "      <td>Pembroke</td>\n",
       "      <td>259245.0</td>\n",
       "      <td>944444.0</td>\n",
       "    </tr>\n",
       "    <tr>\n",
       "      <th>4</th>\n",
       "      <td>Chihuahua</td>\n",
       "      <td>205961.0</td>\n",
       "      <td>633571.0</td>\n",
       "    </tr>\n",
       "    <tr>\n",
       "      <th>5</th>\n",
       "      <td>Samoyed</td>\n",
       "      <td>164261.0</td>\n",
       "      <td>498761.0</td>\n",
       "    </tr>\n",
       "    <tr>\n",
       "      <th>6</th>\n",
       "      <td>French Bulldog</td>\n",
       "      <td>115851.0</td>\n",
       "      <td>460616.0</td>\n",
       "    </tr>\n",
       "    <tr>\n",
       "      <th>7</th>\n",
       "      <td>Chow</td>\n",
       "      <td>101608.0</td>\n",
       "      <td>368427.0</td>\n",
       "    </tr>\n",
       "    <tr>\n",
       "      <th>8</th>\n",
       "      <td>Cocker Spaniel</td>\n",
       "      <td>91586.0</td>\n",
       "      <td>291079.0</td>\n",
       "    </tr>\n",
       "    <tr>\n",
       "      <th>9</th>\n",
       "      <td>Eskimo Dog</td>\n",
       "      <td>91193.0</td>\n",
       "      <td>249328.0</td>\n",
       "    </tr>\n",
       "    <tr>\n",
       "      <th>10</th>\n",
       "      <td>Pug</td>\n",
       "      <td>90124.0</td>\n",
       "      <td>298913.0</td>\n",
       "    </tr>\n",
       "  </tbody>\n",
       "</table>\n",
       "</div>"
      ],
      "text/plain": [
       "             dog_breed  Retweet Count  Favorite Count\n",
       "1     Golden Retriever       447797.0       1582711.0\n",
       "2   Labrador Retriever       341991.0       1066241.0\n",
       "3             Pembroke       259245.0        944444.0\n",
       "4            Chihuahua       205961.0        633571.0\n",
       "5              Samoyed       164261.0        498761.0\n",
       "6       French Bulldog       115851.0        460616.0\n",
       "7                 Chow       101608.0        368427.0\n",
       "8       Cocker Spaniel        91586.0        291079.0\n",
       "9           Eskimo Dog        91193.0        249328.0\n",
       "10                 Pug        90124.0        298913.0"
      ]
     },
     "execution_count": 47,
     "metadata": {},
     "output_type": "execute_result"
    }
   ],
   "source": [
    "Retweet"
   ]
  },
  {
   "cell_type": "code",
   "execution_count": 48,
   "metadata": {},
   "outputs": [
    {
     "data": {
      "text/html": [
       "<div>\n",
       "<style scoped>\n",
       "    .dataframe tbody tr th:only-of-type {\n",
       "        vertical-align: middle;\n",
       "    }\n",
       "\n",
       "    .dataframe tbody tr th {\n",
       "        vertical-align: top;\n",
       "    }\n",
       "\n",
       "    .dataframe thead th {\n",
       "        text-align: right;\n",
       "    }\n",
       "</style>\n",
       "<table border=\"1\" class=\"dataframe\">\n",
       "  <thead>\n",
       "    <tr style=\"text-align: right;\">\n",
       "      <th></th>\n",
       "      <th>dog_breed</th>\n",
       "      <th>Retweet Count</th>\n",
       "      <th>Favorite Count</th>\n",
       "    </tr>\n",
       "  </thead>\n",
       "  <tbody>\n",
       "    <tr>\n",
       "      <th>1</th>\n",
       "      <td>Golden Retriever</td>\n",
       "      <td>447797.0</td>\n",
       "      <td>1582711.0</td>\n",
       "    </tr>\n",
       "    <tr>\n",
       "      <th>2</th>\n",
       "      <td>Labrador Retriever</td>\n",
       "      <td>341991.0</td>\n",
       "      <td>1066241.0</td>\n",
       "    </tr>\n",
       "    <tr>\n",
       "      <th>3</th>\n",
       "      <td>Pembroke</td>\n",
       "      <td>259245.0</td>\n",
       "      <td>944444.0</td>\n",
       "    </tr>\n",
       "    <tr>\n",
       "      <th>4</th>\n",
       "      <td>Chihuahua</td>\n",
       "      <td>205961.0</td>\n",
       "      <td>633571.0</td>\n",
       "    </tr>\n",
       "    <tr>\n",
       "      <th>5</th>\n",
       "      <td>Samoyed</td>\n",
       "      <td>164261.0</td>\n",
       "      <td>498761.0</td>\n",
       "    </tr>\n",
       "    <tr>\n",
       "      <th>6</th>\n",
       "      <td>French Bulldog</td>\n",
       "      <td>115851.0</td>\n",
       "      <td>460616.0</td>\n",
       "    </tr>\n",
       "    <tr>\n",
       "      <th>7</th>\n",
       "      <td>Chow</td>\n",
       "      <td>101608.0</td>\n",
       "      <td>368427.0</td>\n",
       "    </tr>\n",
       "    <tr>\n",
       "      <th>8</th>\n",
       "      <td>Pug</td>\n",
       "      <td>90124.0</td>\n",
       "      <td>298913.0</td>\n",
       "    </tr>\n",
       "    <tr>\n",
       "      <th>9</th>\n",
       "      <td>Cocker Spaniel</td>\n",
       "      <td>91586.0</td>\n",
       "      <td>291079.0</td>\n",
       "    </tr>\n",
       "    <tr>\n",
       "      <th>10</th>\n",
       "      <td>Pomeranian</td>\n",
       "      <td>88272.0</td>\n",
       "      <td>254465.0</td>\n",
       "    </tr>\n",
       "  </tbody>\n",
       "</table>\n",
       "</div>"
      ],
      "text/plain": [
       "             dog_breed  Retweet Count  Favorite Count\n",
       "1     Golden Retriever       447797.0       1582711.0\n",
       "2   Labrador Retriever       341991.0       1066241.0\n",
       "3             Pembroke       259245.0        944444.0\n",
       "4            Chihuahua       205961.0        633571.0\n",
       "5              Samoyed       164261.0        498761.0\n",
       "6       French Bulldog       115851.0        460616.0\n",
       "7                 Chow       101608.0        368427.0\n",
       "8                  Pug        90124.0        298913.0\n",
       "9       Cocker Spaniel        91586.0        291079.0\n",
       "10          Pomeranian        88272.0        254465.0"
      ]
     },
     "execution_count": 48,
     "metadata": {},
     "output_type": "execute_result"
    }
   ],
   "source": [
    "Favorite"
   ]
  },
  {
   "cell_type": "code",
   "execution_count": 49,
   "metadata": {},
   "outputs": [
    {
     "name": "stdout",
     "output_type": "stream",
     "text": [
      "There are 9 dog breeds that are in the list of top 10 highest Retweet Count AND Favorite Count, with Golden Retriever not surprisingly, the most popular.\n"
     ]
    }
   ],
   "source": [
    "print('There are',(Retweet['dog_breed'].isin(Favorite['dog_breed']).value_counts()[1]),'dog breeds that are in the list of top 10 highest Retweet Count AND Favorite Count, with',Favorite['dog_breed'][1],'not surprisingly, the most popular.')"
   ]
  },
  {
   "cell_type": "code",
   "execution_count": 50,
   "metadata": {
    "scrolled": true
   },
   "outputs": [
    {
     "data": {
      "text/html": [
       "<div>\n",
       "<style scoped>\n",
       "    .dataframe tbody tr th:only-of-type {\n",
       "        vertical-align: middle;\n",
       "    }\n",
       "\n",
       "    .dataframe tbody tr th {\n",
       "        vertical-align: top;\n",
       "    }\n",
       "\n",
       "    .dataframe thead th {\n",
       "        text-align: right;\n",
       "    }\n",
       "</style>\n",
       "<table border=\"1\" class=\"dataframe\">\n",
       "  <thead>\n",
       "    <tr style=\"text-align: right;\">\n",
       "      <th></th>\n",
       "      <th>dog_breed</th>\n",
       "      <th>Retweet Norm</th>\n",
       "      <th>Favorite Norm</th>\n",
       "      <th>dog_count</th>\n",
       "    </tr>\n",
       "  </thead>\n",
       "  <tbody>\n",
       "    <tr>\n",
       "      <th>0</th>\n",
       "      <td>Standard Poodle</td>\n",
       "      <td>7272.166667</td>\n",
       "      <td>17596.333333</td>\n",
       "      <td>6.0</td>\n",
       "    </tr>\n",
       "    <tr>\n",
       "      <th>1</th>\n",
       "      <td>Eskimo Dog</td>\n",
       "      <td>6079.533333</td>\n",
       "      <td>16621.866667</td>\n",
       "      <td>15.0</td>\n",
       "    </tr>\n",
       "    <tr>\n",
       "      <th>2</th>\n",
       "      <td>English Springer</td>\n",
       "      <td>5615.555556</td>\n",
       "      <td>14972.555556</td>\n",
       "      <td>9.0</td>\n",
       "    </tr>\n",
       "    <tr>\n",
       "      <th>3</th>\n",
       "      <td>Saluki</td>\n",
       "      <td>4805.000000</td>\n",
       "      <td>23083.000000</td>\n",
       "      <td>4.0</td>\n",
       "    </tr>\n",
       "    <tr>\n",
       "      <th>4</th>\n",
       "      <td>Mexican Hairless</td>\n",
       "      <td>4522.333333</td>\n",
       "      <td>15277.333333</td>\n",
       "      <td>3.0</td>\n",
       "    </tr>\n",
       "    <tr>\n",
       "      <th>5</th>\n",
       "      <td>Cardigan</td>\n",
       "      <td>4430.466667</td>\n",
       "      <td>14968.800000</td>\n",
       "      <td>15.0</td>\n",
       "    </tr>\n",
       "    <tr>\n",
       "      <th>6</th>\n",
       "      <td>Great Pyrenees</td>\n",
       "      <td>4398.642857</td>\n",
       "      <td>12271.000000</td>\n",
       "      <td>14.0</td>\n",
       "    </tr>\n",
       "    <tr>\n",
       "      <th>7</th>\n",
       "      <td>French Bulldog</td>\n",
       "      <td>4290.777778</td>\n",
       "      <td>17059.851852</td>\n",
       "      <td>27.0</td>\n",
       "    </tr>\n",
       "    <tr>\n",
       "      <th>8</th>\n",
       "      <td>Flat-Coated Retriever</td>\n",
       "      <td>4246.875000</td>\n",
       "      <td>16071.000000</td>\n",
       "      <td>8.0</td>\n",
       "    </tr>\n",
       "    <tr>\n",
       "      <th>9</th>\n",
       "      <td>Samoyed</td>\n",
       "      <td>4211.820513</td>\n",
       "      <td>12788.743590</td>\n",
       "      <td>39.0</td>\n",
       "    </tr>\n",
       "  </tbody>\n",
       "</table>\n",
       "</div>"
      ],
      "text/plain": [
       "               dog_breed  Retweet Norm  Favorite Norm  dog_count\n",
       "0        Standard Poodle   7272.166667   17596.333333        6.0\n",
       "1             Eskimo Dog   6079.533333   16621.866667       15.0\n",
       "2       English Springer   5615.555556   14972.555556        9.0\n",
       "3                 Saluki   4805.000000   23083.000000        4.0\n",
       "4       Mexican Hairless   4522.333333   15277.333333        3.0\n",
       "5               Cardigan   4430.466667   14968.800000       15.0\n",
       "6         Great Pyrenees   4398.642857   12271.000000       14.0\n",
       "7         French Bulldog   4290.777778   17059.851852       27.0\n",
       "8  Flat-Coated Retriever   4246.875000   16071.000000        8.0\n",
       "9                Samoyed   4211.820513   12788.743590       39.0"
      ]
     },
     "execution_count": 50,
     "metadata": {},
     "output_type": "execute_result"
    }
   ],
   "source": [
    "Retweet_norm"
   ]
  },
  {
   "cell_type": "code",
   "execution_count": 51,
   "metadata": {
    "scrolled": true
   },
   "outputs": [
    {
     "data": {
      "text/html": [
       "<div>\n",
       "<style scoped>\n",
       "    .dataframe tbody tr th:only-of-type {\n",
       "        vertical-align: middle;\n",
       "    }\n",
       "\n",
       "    .dataframe tbody tr th {\n",
       "        vertical-align: top;\n",
       "    }\n",
       "\n",
       "    .dataframe thead th {\n",
       "        text-align: right;\n",
       "    }\n",
       "</style>\n",
       "<table border=\"1\" class=\"dataframe\">\n",
       "  <thead>\n",
       "    <tr style=\"text-align: right;\">\n",
       "      <th></th>\n",
       "      <th>dog_breed</th>\n",
       "      <th>Favorite Norm</th>\n",
       "      <th>Retweet Norm</th>\n",
       "      <th>dog_count</th>\n",
       "    </tr>\n",
       "  </thead>\n",
       "  <tbody>\n",
       "    <tr>\n",
       "      <th>0</th>\n",
       "      <td>Standard Poodle</td>\n",
       "      <td>17596.333333</td>\n",
       "      <td>7272.166667</td>\n",
       "      <td>6.0</td>\n",
       "    </tr>\n",
       "    <tr>\n",
       "      <th>1</th>\n",
       "      <td>Eskimo Dog</td>\n",
       "      <td>16621.866667</td>\n",
       "      <td>6079.533333</td>\n",
       "      <td>15.0</td>\n",
       "    </tr>\n",
       "    <tr>\n",
       "      <th>2</th>\n",
       "      <td>English Springer</td>\n",
       "      <td>14972.555556</td>\n",
       "      <td>5615.555556</td>\n",
       "      <td>9.0</td>\n",
       "    </tr>\n",
       "    <tr>\n",
       "      <th>3</th>\n",
       "      <td>Saluki</td>\n",
       "      <td>23083.000000</td>\n",
       "      <td>4805.000000</td>\n",
       "      <td>4.0</td>\n",
       "    </tr>\n",
       "    <tr>\n",
       "      <th>4</th>\n",
       "      <td>Mexican Hairless</td>\n",
       "      <td>15277.333333</td>\n",
       "      <td>4522.333333</td>\n",
       "      <td>3.0</td>\n",
       "    </tr>\n",
       "    <tr>\n",
       "      <th>5</th>\n",
       "      <td>Cardigan</td>\n",
       "      <td>14968.800000</td>\n",
       "      <td>4430.466667</td>\n",
       "      <td>15.0</td>\n",
       "    </tr>\n",
       "    <tr>\n",
       "      <th>6</th>\n",
       "      <td>Great Pyrenees</td>\n",
       "      <td>12271.000000</td>\n",
       "      <td>4398.642857</td>\n",
       "      <td>14.0</td>\n",
       "    </tr>\n",
       "    <tr>\n",
       "      <th>7</th>\n",
       "      <td>French Bulldog</td>\n",
       "      <td>17059.851852</td>\n",
       "      <td>4290.777778</td>\n",
       "      <td>27.0</td>\n",
       "    </tr>\n",
       "    <tr>\n",
       "      <th>8</th>\n",
       "      <td>Flat-Coated Retriever</td>\n",
       "      <td>16071.000000</td>\n",
       "      <td>4246.875000</td>\n",
       "      <td>8.0</td>\n",
       "    </tr>\n",
       "    <tr>\n",
       "      <th>9</th>\n",
       "      <td>Samoyed</td>\n",
       "      <td>12788.743590</td>\n",
       "      <td>4211.820513</td>\n",
       "      <td>39.0</td>\n",
       "    </tr>\n",
       "  </tbody>\n",
       "</table>\n",
       "</div>"
      ],
      "text/plain": [
       "               dog_breed  Favorite Norm  Retweet Norm  dog_count\n",
       "0        Standard Poodle   17596.333333   7272.166667        6.0\n",
       "1             Eskimo Dog   16621.866667   6079.533333       15.0\n",
       "2       English Springer   14972.555556   5615.555556        9.0\n",
       "3                 Saluki   23083.000000   4805.000000        4.0\n",
       "4       Mexican Hairless   15277.333333   4522.333333        3.0\n",
       "5               Cardigan   14968.800000   4430.466667       15.0\n",
       "6         Great Pyrenees   12271.000000   4398.642857       14.0\n",
       "7         French Bulldog   17059.851852   4290.777778       27.0\n",
       "8  Flat-Coated Retriever   16071.000000   4246.875000        8.0\n",
       "9                Samoyed   12788.743590   4211.820513       39.0"
      ]
     },
     "execution_count": 51,
     "metadata": {},
     "output_type": "execute_result"
    }
   ],
   "source": [
    "Favorite_norm"
   ]
  },
  {
   "cell_type": "code",
   "execution_count": 52,
   "metadata": {},
   "outputs": [
    {
     "name": "stdout",
     "output_type": "stream",
     "text": [
      "There are 10 dog breeds that are in the list of top 10 highest Retweet Count AND Favorite Count per tweet.\n"
     ]
    }
   ],
   "source": [
    "print('There are',(Retweet_norm['dog_breed'].isin(Favorite_norm['dog_breed']).value_counts()[1]),'dog breeds that are in the list of top 10 highest Retweet Count AND Favorite Count per tweet.')"
   ]
  },
  {
   "cell_type": "code",
   "execution_count": 53,
   "metadata": {},
   "outputs": [],
   "source": [
    "# Analyze which dog stages are the most popular based on retweet and favorite counts\n",
    "stages = pd.merge(df1, df3, on='tweet_id', how='right')\n",
    "stages1 = stages.groupby('dog_stage')['Retweet Count', 'Favorite Count'].sum().reset_index(drop=False)\n",
    "\n",
    "# Normalize dog stages by taking into account dog count (i.e. tweet counts)\n",
    "stages2 = stages['dog_stage'].value_counts().reset_index(drop=False)\n",
    "stages2 = stages2.rename(columns={'index':'dog_stage','dog_stage':'dog_count'})\n",
    "\n",
    "stages_final = pd.merge(stages1, stages2, on='dog_stage', how='outer').reset_index(drop=True).drop(index=0)\n",
    "stages_final['Retweet Norm'] = stages_final['Retweet Count'] / stages_final['dog_count']\n",
    "stages_final['Favorite Norm'] = stages_final['Favorite Count'] / stages_final['dog_count']\n",
    "\n",
    "# Filter DataFrame by dog counts of 3 or higher\n",
    "Retweet_norm1 = stages_final.query('dog_count > 2').sort_values(by = [\"Retweet Norm\"],ascending=False).reset_index(drop=True)\n",
    "\n",
    "Retweet_norm1 = Retweet_norm1[['dog_stage','Retweet Norm','Favorite Norm', 'dog_count']]"
   ]
  },
  {
   "cell_type": "code",
   "execution_count": 54,
   "metadata": {},
   "outputs": [
    {
     "data": {
      "text/html": [
       "<div>\n",
       "<style scoped>\n",
       "    .dataframe tbody tr th:only-of-type {\n",
       "        vertical-align: middle;\n",
       "    }\n",
       "\n",
       "    .dataframe tbody tr th {\n",
       "        vertical-align: top;\n",
       "    }\n",
       "\n",
       "    .dataframe thead th {\n",
       "        text-align: right;\n",
       "    }\n",
       "</style>\n",
       "<table border=\"1\" class=\"dataframe\">\n",
       "  <thead>\n",
       "    <tr style=\"text-align: right;\">\n",
       "      <th></th>\n",
       "      <th>dog_stage</th>\n",
       "      <th>Retweet Norm</th>\n",
       "      <th>Favorite Norm</th>\n",
       "      <th>dog_count</th>\n",
       "    </tr>\n",
       "  </thead>\n",
       "  <tbody>\n",
       "    <tr>\n",
       "      <th>0</th>\n",
       "      <td>doggo</td>\n",
       "      <td>5658.343284</td>\n",
       "      <td>16084.656716</td>\n",
       "      <td>67</td>\n",
       "    </tr>\n",
       "    <tr>\n",
       "      <th>1</th>\n",
       "      <td>puppo</td>\n",
       "      <td>5107.354839</td>\n",
       "      <td>18742.806452</td>\n",
       "      <td>31</td>\n",
       "    </tr>\n",
       "    <tr>\n",
       "      <th>2</th>\n",
       "      <td>floofer</td>\n",
       "      <td>3884.444444</td>\n",
       "      <td>10538.444444</td>\n",
       "      <td>9</td>\n",
       "    </tr>\n",
       "    <tr>\n",
       "      <th>3</th>\n",
       "      <td>doggo, pupper</td>\n",
       "      <td>3844.600000</td>\n",
       "      <td>12387.400000</td>\n",
       "      <td>10</td>\n",
       "    </tr>\n",
       "    <tr>\n",
       "      <th>4</th>\n",
       "      <td>pupper</td>\n",
       "      <td>2062.098712</td>\n",
       "      <td>6301.004292</td>\n",
       "      <td>233</td>\n",
       "    </tr>\n",
       "  </tbody>\n",
       "</table>\n",
       "</div>"
      ],
      "text/plain": [
       "       dog_stage  Retweet Norm  Favorite Norm  dog_count\n",
       "0          doggo   5658.343284   16084.656716         67\n",
       "1          puppo   5107.354839   18742.806452         31\n",
       "2        floofer   3884.444444   10538.444444          9\n",
       "3  doggo, pupper   3844.600000   12387.400000         10\n",
       "4         pupper   2062.098712    6301.004292        233"
      ]
     },
     "execution_count": 54,
     "metadata": {},
     "output_type": "execute_result"
    }
   ],
   "source": [
    "Retweet_norm1"
   ]
  },
  {
   "cell_type": "code",
   "execution_count": 55,
   "metadata": {},
   "outputs": [
    {
     "name": "stdout",
     "output_type": "stream",
     "text": [
      "It's evident by Retweet and Favorite averages that doggo is the most popular dog stage, followed by puppo .\n"
     ]
    }
   ],
   "source": [
    "print(\"It's evident by Retweet and Favorite averages that\",Retweet_norm1['dog_stage'][0],\"is the most popular dog stage, followed by\",Retweet_norm1['dog_stage'][1],\".\")"
   ]
  },
  {
   "cell_type": "code",
   "execution_count": 56,
   "metadata": {},
   "outputs": [],
   "source": [
    "df = pd.merge(stages, df2, on = 'tweet_id', how='outer')\n",
    "df = df[['tweet_id','timestamp','text','rating_numerator','rating_denominator','name','dog_stage','Retweet Count',\n",
    "         'Favorite Count','dog_breed','prediction','confidence']]\n",
    "df.to_csv('twitter_archive_master.csv', sep='\\t', index = False)"
   ]
  },
  {
   "cell_type": "code",
   "execution_count": 57,
   "metadata": {},
   "outputs": [
    {
     "data": {
      "image/png": "[encoded data removed]",
      "text/plain": [
       "<Figure size 720x288 with 1 Axes>"
      ]
     },
     "metadata": {},
     "output_type": "display_data"
    }
   ],
   "source": [
    "# Generate Word Cloud to observe any potential keywords associated with highest rating.\n",
    "max_rating = df.rating_numerator.max()\n",
    "word_cloud_df = df.query(\"rating_numerator=='{0}'\".format(max_rating))\n",
    "word_cloud_text = word_cloud_df.text\n",
    "\n",
    "word_cloud = WordCloud(max_font_size=50, max_words=20, background_color=\"white\").generate(str(word_cloud_text))\n",
    "plt.figure(figsize = (10, 4))\n",
    "plt.imshow(word_cloud, interpolation=\"bilinear\")\n",
    "plt.axis(\"off\")\n",
    "plt.show()"
   ]
  },
  {
   "cell_type": "markdown",
   "metadata": {},
   "source": [
    "<a id='Conclusion'></a>\n",
    "### Conclusion ###"
   ]
  },
  {
   "cell_type": "markdown",
   "metadata": {},
   "source": [
    "The datasets used in this analysis provided key insights into the rating system and behavior of the WeRateDogs account on Twitter. \n",
    "\n",
    "In the dog stage analysis, 'doggo, puppo' and 'doggo, floofer' have only one value, so these can not be evaluated and compared to the same confidence as the other categories. 'Pupper', with the highest count size of 216, has the highest average rating of the categories with 12.9. 'Puppo', with a count size of 31, has the lowest average ranking of 12.5.\n",
    "\n",
    "Before evaluating dog_breeds, it was necessary to evaluate the image prediction model itself. Over 200 dog breeds were identified using a p2 or p3 prediction. 'p2' has an average confidence of 11%, while 'p3' has an average confidence of 5%. Because over 10%, a significant amount, of the total data comes from these predictions, the following dog breed analysis was performed for predictions with a **confidence of 25% or higher**. \n",
    "\n",
    "The dog breed analysis revealed that the **Golden Retriever** was the most popular dog i.e. received the highest number of retweets and favorites. 9 out of 10 dogs were both on the top Favorite's list as well as the top Retweet's list. These dogs are: Golden Retriever, Labrador Retriever, Pembroke, Chihuahua, Samoyed, French Bulldog, Chow, Cocker Spaniel and the Pug. \n",
    "\n",
    "However, it's important to note that Retweet and Favorite counts also reflect the **Number of Tweets**. Without normalizing the data, a fair comparison can't be made. After normalizing the data, it's revealed that the **Standard Poodle** receives the most Retweet's and Favorite's per tweet, 7,272 and 17,596 respectively. In this case, it's also important to consider the possibility of outliers that have counts of 1. Take for instance the scenario where WeAreDogs posts one tweet about a specific dog breed and that tweet goes viral and garners far more retweets and favorites than originally expected. To avoid making inaccurate conclusions, only dog breeds with 'dog_counts' (number of tweets for a dog breed) of greater than 2 are analyzed. \n",
    "\n",
    "The following comparison, similar to that of the dog breed, was performed for the dog stages. After normalization, we can conclude that doggo's are the most popular dog stages, with average retweets and favorites per tweet of 5,658 and 16,084 respectively. \n",
    "\n",
    "A word cloud was finally generated to identify any keywords that could correlate to high rating. \"Sunglasses\", \"pup\", \"please\", and \"call\" are some of the top words that are used in tweets with high rating.\n"
   ]
  },
  {
   "cell_type": "markdown",
   "metadata": {},
   "source": [
    "### Credit Sources: ###\n",
    "1. Udacity\n",
    "2. Stack Overflow"
   ]
  }
 ],
 "metadata": {
  "kernelspec": {
   "display_name": "Python 3",
   "language": "python",
   "name": "python3"
  },
  "language_info": {
   "codemirror_mode": {
    "name": "ipython",
    "version": 3
   },
   "file_extension": ".py",
   "mimetype": "text/x-python",
   "name": "python",
   "nbconvert_exporter": "python",
   "pygments_lexer": "ipython3",
   "version": "3.6.8"
  }
 },
 "nbformat": 4,
 "nbformat_minor": 2
}
